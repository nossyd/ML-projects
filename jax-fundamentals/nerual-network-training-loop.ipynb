{
 "cells": [
  {
   "cell_type": "code",
   "execution_count": 39,
   "id": "c62ed3ab",
   "metadata": {},
   "outputs": [],
   "source": [
    "import pandas as pd\n",
    "from sklearn.model_selection import train_test_split\n",
    "from sklearn.ensemble import RandomForestClassifier\n",
    "from sklearn.metrics import accuracy_score, confusion_matrix, precision_score, recall_score\n",
    "import torch\n",
    "import jax.numpy as jnp\n",
    "from torch.utils.data import Dataset, DataLoader, default_collate\n",
    "from jax.tree_util import tree_map\n",
    "from flax import nnx\n",
    "import optax\n",
    "from tqdm import tqdm"
   ]
  },
  {
   "cell_type": "code",
   "execution_count": 8,
   "id": "f9f223ab",
   "metadata": {},
   "outputs": [
    {
     "name": "stdout",
     "output_type": "stream",
     "text": [
      "shape:  (891, 12)\n"
     ]
    }
   ],
   "source": [
    "df = pd.read_csv(\"titanic-train.csv\")\n",
    "print(\"shape: \", df.shape)"
   ]
  },
  {
   "cell_type": "code",
   "execution_count": 6,
   "id": "e897fe6d",
   "metadata": {},
   "outputs": [
    {
     "data": {
      "text/html": [
       "<div>\n",
       "<style scoped>\n",
       "    .dataframe tbody tr th:only-of-type {\n",
       "        vertical-align: middle;\n",
       "    }\n",
       "\n",
       "    .dataframe tbody tr th {\n",
       "        vertical-align: top;\n",
       "    }\n",
       "\n",
       "    .dataframe thead th {\n",
       "        text-align: right;\n",
       "    }\n",
       "</style>\n",
       "<table border=\"1\" class=\"dataframe\">\n",
       "  <thead>\n",
       "    <tr style=\"text-align: right;\">\n",
       "      <th></th>\n",
       "      <th>PassengerId</th>\n",
       "      <th>Survived</th>\n",
       "      <th>Pclass</th>\n",
       "      <th>Name</th>\n",
       "      <th>Sex</th>\n",
       "      <th>Age</th>\n",
       "      <th>SibSp</th>\n",
       "      <th>Parch</th>\n",
       "      <th>Ticket</th>\n",
       "      <th>Fare</th>\n",
       "      <th>Cabin</th>\n",
       "      <th>Embarked</th>\n",
       "    </tr>\n",
       "  </thead>\n",
       "  <tbody>\n",
       "    <tr>\n",
       "      <th>0</th>\n",
       "      <td>1</td>\n",
       "      <td>0</td>\n",
       "      <td>3</td>\n",
       "      <td>Braund, Mr. Owen Harris</td>\n",
       "      <td>male</td>\n",
       "      <td>22.0</td>\n",
       "      <td>1</td>\n",
       "      <td>0</td>\n",
       "      <td>A/5 21171</td>\n",
       "      <td>7.2500</td>\n",
       "      <td>NaN</td>\n",
       "      <td>S</td>\n",
       "    </tr>\n",
       "    <tr>\n",
       "      <th>1</th>\n",
       "      <td>2</td>\n",
       "      <td>1</td>\n",
       "      <td>1</td>\n",
       "      <td>Cumings, Mrs. John Bradley (Florence Briggs Th...</td>\n",
       "      <td>female</td>\n",
       "      <td>38.0</td>\n",
       "      <td>1</td>\n",
       "      <td>0</td>\n",
       "      <td>PC 17599</td>\n",
       "      <td>71.2833</td>\n",
       "      <td>C85</td>\n",
       "      <td>C</td>\n",
       "    </tr>\n",
       "    <tr>\n",
       "      <th>2</th>\n",
       "      <td>3</td>\n",
       "      <td>1</td>\n",
       "      <td>3</td>\n",
       "      <td>Heikkinen, Miss. Laina</td>\n",
       "      <td>female</td>\n",
       "      <td>26.0</td>\n",
       "      <td>0</td>\n",
       "      <td>0</td>\n",
       "      <td>STON/O2. 3101282</td>\n",
       "      <td>7.9250</td>\n",
       "      <td>NaN</td>\n",
       "      <td>S</td>\n",
       "    </tr>\n",
       "    <tr>\n",
       "      <th>3</th>\n",
       "      <td>4</td>\n",
       "      <td>1</td>\n",
       "      <td>1</td>\n",
       "      <td>Futrelle, Mrs. Jacques Heath (Lily May Peel)</td>\n",
       "      <td>female</td>\n",
       "      <td>35.0</td>\n",
       "      <td>1</td>\n",
       "      <td>0</td>\n",
       "      <td>113803</td>\n",
       "      <td>53.1000</td>\n",
       "      <td>C123</td>\n",
       "      <td>S</td>\n",
       "    </tr>\n",
       "    <tr>\n",
       "      <th>4</th>\n",
       "      <td>5</td>\n",
       "      <td>0</td>\n",
       "      <td>3</td>\n",
       "      <td>Allen, Mr. William Henry</td>\n",
       "      <td>male</td>\n",
       "      <td>35.0</td>\n",
       "      <td>0</td>\n",
       "      <td>0</td>\n",
       "      <td>373450</td>\n",
       "      <td>8.0500</td>\n",
       "      <td>NaN</td>\n",
       "      <td>S</td>\n",
       "    </tr>\n",
       "  </tbody>\n",
       "</table>\n",
       "</div>"
      ],
      "text/plain": [
       "   PassengerId  Survived  Pclass  \\\n",
       "0            1         0       3   \n",
       "1            2         1       1   \n",
       "2            3         1       3   \n",
       "3            4         1       1   \n",
       "4            5         0       3   \n",
       "\n",
       "                                                Name     Sex   Age  SibSp  \\\n",
       "0                            Braund, Mr. Owen Harris    male  22.0      1   \n",
       "1  Cumings, Mrs. John Bradley (Florence Briggs Th...  female  38.0      1   \n",
       "2                             Heikkinen, Miss. Laina  female  26.0      0   \n",
       "3       Futrelle, Mrs. Jacques Heath (Lily May Peel)  female  35.0      1   \n",
       "4                           Allen, Mr. William Henry    male  35.0      0   \n",
       "\n",
       "   Parch            Ticket     Fare Cabin Embarked  \n",
       "0      0         A/5 21171   7.2500   NaN        S  \n",
       "1      0          PC 17599  71.2833   C85        C  \n",
       "2      0  STON/O2. 3101282   7.9250   NaN        S  \n",
       "3      0            113803  53.1000  C123        S  \n",
       "4      0            373450   8.0500   NaN        S  "
      ]
     },
     "execution_count": 6,
     "metadata": {},
     "output_type": "execute_result"
    }
   ],
   "source": [
    "df.head()"
   ]
  },
  {
   "cell_type": "code",
   "execution_count": 9,
   "id": "78c3b1be",
   "metadata": {},
   "outputs": [],
   "source": [
    "def preprocess_titanic_data(df):\n",
    "    \"\"\" Basic preprocessing of Titanic dataset to train ML model\n",
    "\n",
    "    Args:\n",
    "        df (pd.DataFrame): Titanic dataset from Kaggle\n",
    "    \"\"\"\n",
    "\n",
    "    df = df.drop(columns=[\"Name\", \"Ticket\", \"Cabin\"], axis=1)\n",
    "    df[\"Sex\"] = df[\"Sex\"].map({'male': 0, 'female': 1})\n",
    "    df[\"Embarked\"] = df[\"Embarked\"].map({'S': 0, 'C': 1, 'Q': 2})\n",
    "    df[\"Age\"] = df[\"Age\"].fillna(df[\"Age\"].mean())\n",
    "    df = df.dropna()\n",
    "    labels = df.pop(\"Survived\")\n",
    "\n",
    "    return df, labels"
   ]
  },
  {
   "cell_type": "code",
   "execution_count": 10,
   "id": "cd17ecc1",
   "metadata": {},
   "outputs": [
    {
     "data": {
      "text/html": [
       "<div>\n",
       "<style scoped>\n",
       "    .dataframe tbody tr th:only-of-type {\n",
       "        vertical-align: middle;\n",
       "    }\n",
       "\n",
       "    .dataframe tbody tr th {\n",
       "        vertical-align: top;\n",
       "    }\n",
       "\n",
       "    .dataframe thead th {\n",
       "        text-align: right;\n",
       "    }\n",
       "</style>\n",
       "<table border=\"1\" class=\"dataframe\">\n",
       "  <thead>\n",
       "    <tr style=\"text-align: right;\">\n",
       "      <th></th>\n",
       "      <th>PassengerId</th>\n",
       "      <th>Pclass</th>\n",
       "      <th>Sex</th>\n",
       "      <th>Age</th>\n",
       "      <th>SibSp</th>\n",
       "      <th>Parch</th>\n",
       "      <th>Fare</th>\n",
       "      <th>Embarked</th>\n",
       "    </tr>\n",
       "  </thead>\n",
       "  <tbody>\n",
       "    <tr>\n",
       "      <th>0</th>\n",
       "      <td>1</td>\n",
       "      <td>3</td>\n",
       "      <td>0</td>\n",
       "      <td>22.0</td>\n",
       "      <td>1</td>\n",
       "      <td>0</td>\n",
       "      <td>7.2500</td>\n",
       "      <td>0.0</td>\n",
       "    </tr>\n",
       "    <tr>\n",
       "      <th>1</th>\n",
       "      <td>2</td>\n",
       "      <td>1</td>\n",
       "      <td>1</td>\n",
       "      <td>38.0</td>\n",
       "      <td>1</td>\n",
       "      <td>0</td>\n",
       "      <td>71.2833</td>\n",
       "      <td>1.0</td>\n",
       "    </tr>\n",
       "    <tr>\n",
       "      <th>2</th>\n",
       "      <td>3</td>\n",
       "      <td>3</td>\n",
       "      <td>1</td>\n",
       "      <td>26.0</td>\n",
       "      <td>0</td>\n",
       "      <td>0</td>\n",
       "      <td>7.9250</td>\n",
       "      <td>0.0</td>\n",
       "    </tr>\n",
       "    <tr>\n",
       "      <th>3</th>\n",
       "      <td>4</td>\n",
       "      <td>1</td>\n",
       "      <td>1</td>\n",
       "      <td>35.0</td>\n",
       "      <td>1</td>\n",
       "      <td>0</td>\n",
       "      <td>53.1000</td>\n",
       "      <td>0.0</td>\n",
       "    </tr>\n",
       "    <tr>\n",
       "      <th>4</th>\n",
       "      <td>5</td>\n",
       "      <td>3</td>\n",
       "      <td>0</td>\n",
       "      <td>35.0</td>\n",
       "      <td>0</td>\n",
       "      <td>0</td>\n",
       "      <td>8.0500</td>\n",
       "      <td>0.0</td>\n",
       "    </tr>\n",
       "  </tbody>\n",
       "</table>\n",
       "</div>"
      ],
      "text/plain": [
       "   PassengerId  Pclass  Sex   Age  SibSp  Parch     Fare  Embarked\n",
       "0            1       3    0  22.0      1      0   7.2500       0.0\n",
       "1            2       1    1  38.0      1      0  71.2833       1.0\n",
       "2            3       3    1  26.0      0      0   7.9250       0.0\n",
       "3            4       1    1  35.0      1      0  53.1000       0.0\n",
       "4            5       3    0  35.0      0      0   8.0500       0.0"
      ]
     },
     "execution_count": 10,
     "metadata": {},
     "output_type": "execute_result"
    }
   ],
   "source": [
    "df, labels = preprocess_titanic_data(df)\n",
    "df.head()"
   ]
  },
  {
   "cell_type": "code",
   "execution_count": 12,
   "id": "5cc7d10d",
   "metadata": {},
   "outputs": [],
   "source": [
    "X_train, X_test, y_train, y_test = train_test_split(df, labels, test_size=0.2)"
   ]
  },
  {
   "cell_type": "markdown",
   "id": "845fbd70",
   "metadata": {},
   "source": [
    "### baseline model (random forest)"
   ]
  },
  {
   "cell_type": "code",
   "execution_count": 14,
   "id": "281c23c1",
   "metadata": {},
   "outputs": [],
   "source": [
    "rf = RandomForestClassifier(n_estimators=100, random_state=42)\n",
    "rf.fit(X_train, y_train)\n",
    "y_pred = rf.predict(X_test)"
   ]
  },
  {
   "cell_type": "code",
   "execution_count": 19,
   "id": "ee216301",
   "metadata": {},
   "outputs": [
    {
     "name": "stdout",
     "output_type": "stream",
     "text": [
      "accuracy_score =  0.8371\n",
      "precision_score =  0.8276\n",
      "recall_score =  0.7164\n"
     ]
    }
   ],
   "source": [
    "print(\"accuracy_score = \", round(accuracy_score(y_test, y_pred),4))\n",
    "print(\"precision_score = \", round(precision_score(y_test, y_pred),4))\n",
    "print(\"recall_score = \", round(recall_score(y_test, y_pred),4))"
   ]
  },
  {
   "cell_type": "markdown",
   "id": "d2a462ba",
   "metadata": {},
   "source": [
    "### jax"
   ]
  },
  {
   "cell_type": "code",
   "execution_count": 59,
   "id": "0f8da8db",
   "metadata": {},
   "outputs": [],
   "source": [
    "class TitanicDataset(Dataset):\n",
    "    def __init__(self, X, y):\n",
    "        self.features = X.reset_index(drop=True)\n",
    "        self.labels = y.reset_index(drop=True)\n",
    "\n",
    "    def __getitem__(self, index):\n",
    "        x = torch.tensor(self.features.iloc[index].values, dtype=torch.float32)\n",
    "        y = torch.tensor(self.labels.iloc[index], dtype=torch.float32)\n",
    "\n",
    "        return x, y\n",
    "    \n",
    "    def __len__(self):\n",
    "        return self.labels.shape[0]"
   ]
  },
  {
   "cell_type": "code",
   "execution_count": 60,
   "id": "01b0d1e7",
   "metadata": {},
   "outputs": [],
   "source": [
    "def numpy_collate(batch):\n",
    "    return tree_map(jnp.asarray, default_collate(batch))"
   ]
  },
  {
   "cell_type": "code",
   "execution_count": 61,
   "id": "ffe60fda",
   "metadata": {},
   "outputs": [],
   "source": [
    "train_ds = TitanicDataset(X_train, y_train)\n",
    "test_ds = TitanicDataset(X_test, y_test)"
   ]
  },
  {
   "cell_type": "code",
   "execution_count": 62,
   "id": "45046ea5",
   "metadata": {},
   "outputs": [],
   "source": [
    "train_dataloader_jax = DataLoader(train_ds, batch_size=64, shuffle=True, collate_fn=numpy_collate)\n",
    "test_dataloader_jax = DataLoader(test_ds, batch_size=64, shuffle=False, collate_fn=numpy_collate)"
   ]
  },
  {
   "cell_type": "code",
   "execution_count": 63,
   "id": "789997ef",
   "metadata": {},
   "outputs": [],
   "source": [
    "class TitanicNNX(nnx.Module):\n",
    "    def __init__(self, num_hidden_1, num_hidden_2, rngs: nnx.Rngs):\n",
    "        self.linear1 = nnx.Linear(8, num_hidden_1, rngs=rngs)\n",
    "        self.dropout = nnx.Dropout(0.01, rngs=rngs)\n",
    "        self.relu = nnx.leaky_relu\n",
    "        self.linear2 = nnx.Linear(num_hidden_1, num_hidden_2, rngs=rngs)\n",
    "        self.linear3 = nnx.Linear(num_hidden_2, 1, use_bias=False, rngs=rngs)\n",
    "\n",
    "    def __call__(self, x):\n",
    "        x = self.linear1(x)\n",
    "        x = self.dropout(x)\n",
    "        x = self.relu(x)\n",
    "        x = self.linear2(x)\n",
    "        x = self.dropout(x)\n",
    "        x = self.relu(x)\n",
    "        out = self.linear3(x)\n",
    "        return out"
   ]
  },
  {
   "cell_type": "code",
   "execution_count": 64,
   "id": "4e35173e",
   "metadata": {},
   "outputs": [
    {
     "data": {
      "text/html": [
       "<script> (()=>{ if (customElements.get('treescope-container') === undefined) { class TreescopeContainer extends HTMLElement { constructor() { super(); this.attachShadow({mode: \"open\"}); this.defns = {}; this.state = {}; } } customElements.define(\"treescope-container\", TreescopeContainer); } if (customElements.get('treescope-run-here') === undefined) { class RunHere extends HTMLElement { constructor() { super() } connectedCallback() { const run = child => { const fn = new Function(child.textContent); child.textContent = \"\"; fn.call(this); this.remove(); }; const child = this.querySelector(\"script\"); if (child) { run(child); } else { new MutationObserver(()=>{ run(this.querySelector(\"script\")); }).observe(this, {childList: true}); } } } customElements.define(\"treescope-run-here\", RunHere); } })(); </script> <treescope-container class=\"treescope_out_0a7ba5d1b1934f9ea584d562b7e0cffc\" style=\"display:block\"></treescope-container> <treescope-run-here><script type=\"application/octet-stream\"> const root = ( Array.from(document.getElementsByClassName( \"treescope_out_0a7ba5d1b1934f9ea584d562b7e0cffc\")) .filter((elt) => !elt.dataset.setup) )[0]; root.dataset.setup = 1; const msg = document.createElement(\"span\"); msg.style = \"color: #cccccc; font-family: monospace;\"; msg.textContent = \"(Loading...)\"; root.state.loadingMsg = msg; root.shadowRoot.appendChild(msg); root.state.chain = new Promise((resolve, reject) => { const observer = new IntersectionObserver((entries) => { for (const entry of entries) { if (entry.isIntersecting) { resolve(); observer.disconnect(); return; } } }, {rootMargin: \"1000px\"}); window.setTimeout(() => { observer.observe(root); }, 0); }); root.state.deferring = false; const _insertNode = (node) => { for (let oldScript of node.querySelectorAll(\"script\")) { let newScript = document.createElement(\"script\"); newScript.type = oldScript.type; newScript.textContent = oldScript.textContent; oldScript.parentNode.replaceChild(newScript, oldScript); } if (root.state.loadingMsg) { root.state.loadingMsg.remove(); root.state.loadingMsg = null; } root.shadowRoot.appendChild(node); }; root.defns.insertContent = ((contentNode, compressed) => { if (compressed) { root.state.deferring = true; } if (root.state.deferring) { root.state.chain = (async () => { await root.state.chain; if (compressed) { const encoded = contentNode.textContent; const blob = new Blob([ Uint8Array.from(atob(encoded), (m) => m.codePointAt(0)) ]); const reader = blob.stream().pipeThrough( new DecompressionStream(\"deflate\") ).pipeThrough( new TextDecoderStream(\"utf-8\") ).getReader(); const parts = []; while (true) { const step = await reader.read(); if (step.done) { break; } parts.push(step.value); } const tpl = document.createElement('template'); tpl.innerHTML = parts.join(\"\"); _insertNode(tpl.content); } else { _insertNode(contentNode.content); } })(); } else { _insertNode(contentNode.content); } }); </script></treescope-run-here><div style=\"display:none\"> <script type=\"application/octet-stream\" >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</script> <treescope-run-here><script type=\"application/octet-stream\"> const root = ( Array.from(document.getElementsByClassName( \"treescope_out_0a7ba5d1b1934f9ea584d562b7e0cffc\")) .filter((elt) => !elt.dataset['step0']) )[0]; root.dataset['step0'] = 1; root.defns.insertContent( this.parentNode.querySelector('script[type=\"application/octet-stream\"]'), true ); this.parentNode.remove(); </script></treescope-run-here> </div>"
      ],
      "text/plain": [
       "<IPython.core.display.HTML object>"
      ]
     },
     "metadata": {},
     "output_type": "display_data"
    },
    {
     "data": {
      "text/html": [
       "<div style=\"display:none\"> <script type=\"application/octet-stream\" >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</script> <treescope-run-here><script type=\"application/octet-stream\"> const root = ( Array.from(document.getElementsByClassName( \"treescope_out_0a7ba5d1b1934f9ea584d562b7e0cffc\")) .filter((elt) => !elt.dataset['step1']) )[0]; root.dataset['step1'] = 1; root.defns.insertContent( this.parentNode.querySelector('script[type=\"application/octet-stream\"]'), true ); this.parentNode.remove(); </script></treescope-run-here> </div>"
      ],
      "text/plain": [
       "<IPython.core.display.HTML object>"
      ]
     },
     "metadata": {},
     "output_type": "display_data"
    }
   ],
   "source": [
    "model = TitanicNNX(32, 16, rngs=nnx.Rngs(0))\n",
    "nnx.display(model)"
   ]
  },
  {
   "cell_type": "code",
   "execution_count": 65,
   "id": "d00fa5f9",
   "metadata": {},
   "outputs": [],
   "source": [
    "def train(model, train_dataloader, test_dataloader, num_epochs):\n",
    "    optimizer = nnx.ModelAndOptimizer(model, optax.adam(learning_rate=0.01))\n",
    "\n",
    "    for epoch in (pbar := tqdm(range(num_epochs))):\n",
    "        pbar.set_description(f\"Epoch {epoch}\")\n",
    "        model.train()\n",
    "        for batch in train_dataloader:\n",
    "            train_step(model, optimizer, batch)\n",
    "        \n",
    "        pbar.set_postfix(train_accuracy=eval(model, train_dataloader), eval_accuracy=eval(model, test_dataloader))\n",
    "\n",
    "@nnx.jit\n",
    "def train_step(model, optimizer, batch):\n",
    "    def loss_fn(model):\n",
    "        logits = model(batch[0])\n",
    "        loss = optax.sigmoid_binary_cross_entropy(logits.squeeze(), batch[1]).mean()\n",
    "\n",
    "        return loss\n",
    "    grad_fn = nnx.value_and_grad(loss_fn)\n",
    "    loss, grads = grad_fn(model)\n",
    "    optimizer.update(grads)\n",
    "\n",
    "def eval(model, test_dataloader):\n",
    "    total = 0\n",
    "    num_correct = 0\n",
    "    model.eval()\n",
    "    for batch in test_dataloader:\n",
    "        res = eval_step(model, batch)\n",
    "        total += res.shape[0]\n",
    "        num_correct += jnp.sum(res)\n",
    "\n",
    "    return num_correct / total\n",
    "\n",
    "@nnx.jit\n",
    "def eval_step(model, batch):\n",
    "    logits = model(batch[0])\n",
    "    logits = logits.squeeze()\n",
    "    preds = jnp.round(nnx.sigmoid(logits))\n",
    "\n",
    "    return preds == batch[1]"
   ]
  },
  {
   "cell_type": "code",
   "execution_count": 66,
   "id": "af8a19f6",
   "metadata": {},
   "outputs": [
    {
     "name": "stderr",
     "output_type": "stream",
     "text": [
      "Epoch 499: 100%|██████████| 500/500 [00:21<00:00, 23.44it/s, eval_accuracy=0.7696629, train_accuracy=0.82137835] \n"
     ]
    }
   ],
   "source": [
    "train(model, train_dataloader_jax, test_dataloader_jax, num_epochs=500)"
   ]
  },
  {
   "cell_type": "code",
   "execution_count": null,
   "id": "ddb48f19",
   "metadata": {},
   "outputs": [],
   "source": []
  }
 ],
 "metadata": {
  "kernelspec": {
   "display_name": "Python 3",
   "language": "python",
   "name": "python3"
  },
  "language_info": {
   "codemirror_mode": {
    "name": "ipython",
    "version": 3
   },
   "file_extension": ".py",
   "mimetype": "text/x-python",
   "name": "python",
   "nbconvert_exporter": "python",
   "pygments_lexer": "ipython3",
   "version": "3.12.4"
  }
 },
 "nbformat": 4,
 "nbformat_minor": 5
}
