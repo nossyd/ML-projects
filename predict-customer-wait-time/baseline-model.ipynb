{
 "cells": [
  {
   "cell_type": "code",
   "execution_count": 12,
   "id": "9b50e3f4",
   "metadata": {},
   "outputs": [],
   "source": [
    "import pandas as pd\n",
    "from sklearn.model_selection import train_test_split\n",
    "from sklearn.linear_model import LinearRegression\n",
    "from sklearn.tree import DecisionTreeRegressor\n",
    "from sklearn.metrics import r2_score, root_mean_squared_error, mean_absolute_error\n",
    "from sklearn.preprocessing import StandardScaler, LabelEncoder\n",
    "from utils import *"
   ]
  },
  {
   "cell_type": "code",
   "execution_count": 20,
   "id": "51710441",
   "metadata": {},
   "outputs": [],
   "source": [
    "df = pd.read_csv(\"rides_data_condense.csv\")"
   ]
  },
  {
   "cell_type": "code",
   "execution_count": 21,
   "id": "e9c08170",
   "metadata": {},
   "outputs": [
    {
     "name": "stdout",
     "output_type": "stream",
     "text": [
      "<class 'pandas.core.frame.DataFrame'>\n",
      "RangeIndex: 1036418 entries, 0 to 1036417\n",
      "Data columns (total 9 columns):\n",
      " #   Column                      Non-Null Count    Dtype  \n",
      "---  ------                      --------------    -----  \n",
      " 0   rider_rating                1019444 non-null  float64\n",
      " 1   requested_car_category      1036418 non-null  object \n",
      " 2   surge_factor                1036418 non-null  float64\n",
      " 3   rider_id                    1036418 non-null  int64  \n",
      " 4   base_fare                   1036418 non-null  float64\n",
      " 5   rate_per_mile               1036418 non-null  float64\n",
      " 6   rate_per_minute             1036418 non-null  float64\n",
      " 7   travel_distance_miles       1036418 non-null  float64\n",
      " 8   customer_wait_time_seconds  1036418 non-null  int64  \n",
      "dtypes: float64(6), int64(2), object(1)\n",
      "memory usage: 71.2+ MB\n"
     ]
    }
   ],
   "source": [
    "df.info()"
   ]
  },
  {
   "cell_type": "code",
   "execution_count": 22,
   "id": "f562399e",
   "metadata": {},
   "outputs": [],
   "source": [
    "df['rider_rating'] = df['rider_rating'].fillna(0)"
   ]
  },
  {
   "cell_type": "code",
   "execution_count": 23,
   "id": "b8165bab",
   "metadata": {},
   "outputs": [
    {
     "name": "stdout",
     "output_type": "stream",
     "text": [
      "<class 'pandas.core.frame.DataFrame'>\n",
      "RangeIndex: 1036418 entries, 0 to 1036417\n",
      "Data columns (total 9 columns):\n",
      " #   Column                      Non-Null Count    Dtype  \n",
      "---  ------                      --------------    -----  \n",
      " 0   rider_rating                1036418 non-null  float64\n",
      " 1   requested_car_category      1036418 non-null  object \n",
      " 2   surge_factor                1036418 non-null  float64\n",
      " 3   rider_id                    1036418 non-null  int64  \n",
      " 4   base_fare                   1036418 non-null  float64\n",
      " 5   rate_per_mile               1036418 non-null  float64\n",
      " 6   rate_per_minute             1036418 non-null  float64\n",
      " 7   travel_distance_miles       1036418 non-null  float64\n",
      " 8   customer_wait_time_seconds  1036418 non-null  int64  \n",
      "dtypes: float64(6), int64(2), object(1)\n",
      "memory usage: 71.2+ MB\n"
     ]
    }
   ],
   "source": [
    "df.info()"
   ]
  },
  {
   "cell_type": "code",
   "execution_count": 24,
   "id": "712f1fa2",
   "metadata": {},
   "outputs": [],
   "source": [
    "# Define X and y\n",
    "X = df.loc[:, ~df.columns.isin(['customer_wait_time_seconds'])]\n",
    "y = df.customer_wait_time_seconds"
   ]
  },
  {
   "cell_type": "code",
   "execution_count": 25,
   "id": "4cb82c05",
   "metadata": {},
   "outputs": [],
   "source": [
    "### First preprocess the data\n",
    "# Separate numerical and categorical features\n",
    "X_num, X_cat = separate(X)\n",
    "\n",
    "# Convert categorical features to labels\n",
    "X_cat = X_cat.apply(LabelEncoder().fit_transform)"
   ]
  },
  {
   "cell_type": "code",
   "execution_count": 26,
   "id": "2d621a04",
   "metadata": {},
   "outputs": [],
   "source": [
    "# First combine the numerical and categorical features\n",
    "fullX = pd.concat([X_num,X_cat], axis = 1)"
   ]
  },
  {
   "cell_type": "code",
   "execution_count": 27,
   "id": "273ea2d6",
   "metadata": {},
   "outputs": [
    {
     "data": {
      "text/html": [
       "<div>\n",
       "<style scoped>\n",
       "    .dataframe tbody tr th:only-of-type {\n",
       "        vertical-align: middle;\n",
       "    }\n",
       "\n",
       "    .dataframe tbody tr th {\n",
       "        vertical-align: top;\n",
       "    }\n",
       "\n",
       "    .dataframe thead th {\n",
       "        text-align: right;\n",
       "    }\n",
       "</style>\n",
       "<table border=\"1\" class=\"dataframe\">\n",
       "  <thead>\n",
       "    <tr style=\"text-align: right;\">\n",
       "      <th></th>\n",
       "      <th>rider_rating</th>\n",
       "      <th>surge_factor</th>\n",
       "      <th>rider_id</th>\n",
       "      <th>base_fare</th>\n",
       "      <th>rate_per_mile</th>\n",
       "      <th>rate_per_minute</th>\n",
       "      <th>travel_distance_miles</th>\n",
       "      <th>requested_car_category</th>\n",
       "    </tr>\n",
       "  </thead>\n",
       "  <tbody>\n",
       "    <tr>\n",
       "      <th>0</th>\n",
       "      <td>5.0</td>\n",
       "      <td>0.0</td>\n",
       "      <td>0</td>\n",
       "      <td>1.5</td>\n",
       "      <td>1.5</td>\n",
       "      <td>0.25</td>\n",
       "      <td>2.255262</td>\n",
       "      <td>3</td>\n",
       "    </tr>\n",
       "    <tr>\n",
       "      <th>1</th>\n",
       "      <td>5.0</td>\n",
       "      <td>0.0</td>\n",
       "      <td>0</td>\n",
       "      <td>1.5</td>\n",
       "      <td>1.5</td>\n",
       "      <td>0.25</td>\n",
       "      <td>0.214196</td>\n",
       "      <td>3</td>\n",
       "    </tr>\n",
       "    <tr>\n",
       "      <th>2</th>\n",
       "      <td>5.0</td>\n",
       "      <td>0.0</td>\n",
       "      <td>0</td>\n",
       "      <td>1.5</td>\n",
       "      <td>1.5</td>\n",
       "      <td>0.25</td>\n",
       "      <td>0.212807</td>\n",
       "      <td>3</td>\n",
       "    </tr>\n",
       "    <tr>\n",
       "      <th>3</th>\n",
       "      <td>5.0</td>\n",
       "      <td>0.0</td>\n",
       "      <td>1</td>\n",
       "      <td>1.5</td>\n",
       "      <td>1.5</td>\n",
       "      <td>0.25</td>\n",
       "      <td>2.115222</td>\n",
       "      <td>3</td>\n",
       "    </tr>\n",
       "    <tr>\n",
       "      <th>4</th>\n",
       "      <td>5.0</td>\n",
       "      <td>0.0</td>\n",
       "      <td>2</td>\n",
       "      <td>1.5</td>\n",
       "      <td>1.5</td>\n",
       "      <td>0.25</td>\n",
       "      <td>0.119355</td>\n",
       "      <td>3</td>\n",
       "    </tr>\n",
       "  </tbody>\n",
       "</table>\n",
       "</div>"
      ],
      "text/plain": [
       "   rider_rating  surge_factor  rider_id  base_fare  rate_per_mile  \\\n",
       "0           5.0           0.0         0        1.5            1.5   \n",
       "1           5.0           0.0         0        1.5            1.5   \n",
       "2           5.0           0.0         0        1.5            1.5   \n",
       "3           5.0           0.0         1        1.5            1.5   \n",
       "4           5.0           0.0         2        1.5            1.5   \n",
       "\n",
       "   rate_per_minute  travel_distance_miles  requested_car_category  \n",
       "0             0.25               2.255262                       3  \n",
       "1             0.25               0.214196                       3  \n",
       "2             0.25               0.212807                       3  \n",
       "3             0.25               2.115222                       3  \n",
       "4             0.25               0.119355                       3  "
      ]
     },
     "execution_count": 27,
     "metadata": {},
     "output_type": "execute_result"
    }
   ],
   "source": [
    "fullX.head()"
   ]
  },
  {
   "cell_type": "code",
   "execution_count": 28,
   "id": "c9d9b1ae",
   "metadata": {},
   "outputs": [],
   "source": [
    "# Define training and testing\n",
    "X_train, X_valid, y_train, y_valid = train_test_split(fullX, y, test_size = .2, random_state = 0)"
   ]
  },
  {
   "cell_type": "markdown",
   "id": "4e4d4883",
   "metadata": {},
   "source": [
    "### linear reg"
   ]
  },
  {
   "cell_type": "code",
   "execution_count": 29,
   "id": "efa21c4f",
   "metadata": {},
   "outputs": [],
   "source": [
    "# Create linear regression model\n",
    "lr_reg = LinearRegression()"
   ]
  },
  {
   "cell_type": "code",
   "execution_count": 30,
   "id": "0eed8aaf",
   "metadata": {},
   "outputs": [
    {
     "name": "stdout",
     "output_type": "stream",
     "text": [
      "r2 =  0.061288406452270516\n",
      "rmse =  205.10487635489056\n",
      "mae =  145.79643512744414\n"
     ]
    }
   ],
   "source": [
    "# Train linear regression model\n",
    "lr_y_pred = lr_reg.fit(X_train, y_train).predict(X_valid)\n",
    "print(\"r2 = \", r2_score(y_valid, lr_y_pred))\n",
    "print(\"rmse = \", root_mean_squared_error(y_valid, lr_y_pred))\n",
    "print(\"mae = \", mean_absolute_error(y_valid, lr_y_pred))"
   ]
  },
  {
   "cell_type": "markdown",
   "id": "2ae8eafc",
   "metadata": {},
   "source": [
    "### DT"
   ]
  },
  {
   "cell_type": "code",
   "execution_count": 31,
   "id": "27fa37d8",
   "metadata": {},
   "outputs": [],
   "source": [
    "# Create decision tree regressor\n",
    "dt_reg = DecisionTreeRegressor()"
   ]
  },
  {
   "cell_type": "code",
   "execution_count": 32,
   "id": "5ccb4adb",
   "metadata": {},
   "outputs": [
    {
     "name": "stdout",
     "output_type": "stream",
     "text": [
      "r2 =  -0.7311038186645524\n",
      "rmse =  278.5296620306463\n",
      "mae =  194.55272114399233\n"
     ]
    }
   ],
   "source": [
    "# Train DT regressor\n",
    "dt_y_pred = dt_reg.fit(X_train, y_train).predict(X_valid)\n",
    "print(\"r2 = \", r2_score(y_valid, dt_y_pred))\n",
    "print(\"rmse = \", root_mean_squared_error(y_valid, dt_y_pred))\n",
    "print(\"mae = \", mean_absolute_error(y_valid, dt_y_pred))"
   ]
  },
  {
   "cell_type": "code",
   "execution_count": null,
   "id": "b5eed836",
   "metadata": {},
   "outputs": [],
   "source": []
  }
 ],
 "metadata": {
  "kernelspec": {
   "display_name": "Python 3",
   "language": "python",
   "name": "python3"
  },
  "language_info": {
   "codemirror_mode": {
    "name": "ipython",
    "version": 3
   },
   "file_extension": ".py",
   "mimetype": "text/x-python",
   "name": "python",
   "nbconvert_exporter": "python",
   "pygments_lexer": "ipython3",
   "version": "3.12.4"
  }
 },
 "nbformat": 4,
 "nbformat_minor": 5
}
