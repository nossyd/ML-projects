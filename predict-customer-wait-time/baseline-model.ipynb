{
 "cells": [
  {
   "cell_type": "code",
   "execution_count": 5,
   "id": "9b50e3f4",
   "metadata": {},
   "outputs": [],
   "source": [
    "import pandas as pd\n",
    "from sklearn.model_selection import train_test_split\n",
    "from sklearn.linear_model import LinearRegression\n",
    "from sklearn.tree import DecisionTreeRegressor\n",
    "from sklearn.metrics import r2_score, root_mean_squared_error, mean_absolute_error\n",
    "from sklearn.preprocessing import StandardScaler, LabelEncoder\n",
    "from utils import *"
   ]
  },
  {
   "cell_type": "code",
   "execution_count": 6,
   "id": "c9d9b1ae",
   "metadata": {},
   "outputs": [],
   "source": [
    "X_train = pd.read_csv(\"X_train.csv\")\n",
    "y_train = pd.read_csv(\"y_train.csv\")\n",
    "X_valid = pd.read_csv(\"X_valid.csv\")\n",
    "y_valid = pd.read_csv(\"y_valid.csv\")"
   ]
  },
  {
   "cell_type": "markdown",
   "id": "4e4d4883",
   "metadata": {},
   "source": [
    "### linear reg"
   ]
  },
  {
   "cell_type": "code",
   "execution_count": 7,
   "id": "efa21c4f",
   "metadata": {},
   "outputs": [],
   "source": [
    "# Create linear regression model\n",
    "lr_reg = LinearRegression()"
   ]
  },
  {
   "cell_type": "code",
   "execution_count": 8,
   "id": "0eed8aaf",
   "metadata": {},
   "outputs": [
    {
     "name": "stdout",
     "output_type": "stream",
     "text": [
      "r2 =  0.061288406452270516\n",
      "rmse =  205.10487635489056\n",
      "mae =  145.79643512744414\n"
     ]
    }
   ],
   "source": [
    "# Train linear regression model\n",
    "lr_y_pred = lr_reg.fit(X_train, y_train).predict(X_valid)\n",
    "print(\"r2 = \", r2_score(y_valid, lr_y_pred))\n",
    "print(\"rmse = \", root_mean_squared_error(y_valid, lr_y_pred))\n",
    "print(\"mae = \", mean_absolute_error(y_valid, lr_y_pred))"
   ]
  },
  {
   "cell_type": "markdown",
   "id": "2ae8eafc",
   "metadata": {},
   "source": [
    "### DT"
   ]
  },
  {
   "cell_type": "code",
   "execution_count": 9,
   "id": "27fa37d8",
   "metadata": {},
   "outputs": [],
   "source": [
    "# Create decision tree regressor\n",
    "dt_reg = DecisionTreeRegressor()"
   ]
  },
  {
   "cell_type": "code",
   "execution_count": 10,
   "id": "5ccb4adb",
   "metadata": {},
   "outputs": [
    {
     "name": "stdout",
     "output_type": "stream",
     "text": [
      "r2 =  -0.7334821442123856\n",
      "rmse =  278.72092925393554\n",
      "mae =  194.7168025504659\n"
     ]
    }
   ],
   "source": [
    "# Train DT regressor\n",
    "dt_y_pred = dt_reg.fit(X_train, y_train).predict(X_valid)\n",
    "print(\"r2 = \", r2_score(y_valid, dt_y_pred))\n",
    "print(\"rmse = \", root_mean_squared_error(y_valid, dt_y_pred))\n",
    "print(\"mae = \", mean_absolute_error(y_valid, dt_y_pred))"
   ]
  },
  {
   "cell_type": "code",
   "execution_count": null,
   "id": "b5eed836",
   "metadata": {},
   "outputs": [],
   "source": []
  }
 ],
 "metadata": {
  "kernelspec": {
   "display_name": "Python 3",
   "language": "python",
   "name": "python3"
  },
  "language_info": {
   "codemirror_mode": {
    "name": "ipython",
    "version": 3
   },
   "file_extension": ".py",
   "mimetype": "text/x-python",
   "name": "python",
   "nbconvert_exporter": "python",
   "pygments_lexer": "ipython3",
   "version": "3.12.4"
  }
 },
 "nbformat": 4,
 "nbformat_minor": 5
}
