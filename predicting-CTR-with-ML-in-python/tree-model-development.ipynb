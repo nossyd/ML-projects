{
 "cells": [
  {
   "cell_type": "code",
   "execution_count": 20,
   "id": "00ee9625",
   "metadata": {},
   "outputs": [],
   "source": [
    "import pandas as pd\n",
    "from sklearn.tree import DecisionTreeClassifier\n",
    "from sklearn.linear_model import LogisticRegression\n",
    "from sklearn.model_selection import train_test_split\n",
    "from sklearn.metrics import confusion_matrix, precision_score, recall_score\n",
    "import numpy as np\n",
    "from utils import *"
   ]
  },
  {
   "cell_type": "code",
   "execution_count": 5,
   "id": "f61a65af",
   "metadata": {},
   "outputs": [],
   "source": [
    "df_train = pd.read_csv('/Users/dysson/Downloads/train.gz',compression='gzip')"
   ]
  },
  {
   "cell_type": "code",
   "execution_count": 6,
   "id": "262693c5",
   "metadata": {},
   "outputs": [],
   "source": [
    "df_train.rename(columns = {'C1': 'search_engine_type', 'C14': 'product_type', 'C15': 'advertiser_type'}, inplace = True)"
   ]
  },
  {
   "cell_type": "code",
   "execution_count": 7,
   "id": "f310a8e4",
   "metadata": {},
   "outputs": [],
   "source": [
    "# Define X and y\n",
    "X = df_train.loc[:, ~df_train.columns.isin(['click'])]\n",
    "y = df_train.click"
   ]
  },
  {
   "cell_type": "code",
   "execution_count": 8,
   "id": "82a75423",
   "metadata": {},
   "outputs": [],
   "source": [
    "X_reduce = X[['hour', 'search_engine_type', 'banner_pos', 'device_type', 'device_conn_type', 'product_type', 'advertiser_type', 'C16', 'C17', 'C18', 'C19', 'C20', 'C21']]"
   ]
  },
  {
   "cell_type": "code",
   "execution_count": 9,
   "id": "32ea01bd",
   "metadata": {},
   "outputs": [],
   "source": [
    "# Set up classifier using training data to predict test data\n",
    "X_train, X_test, y_train, y_test = train_test_split(\n",
    "  X_reduce, y, test_size = .2, random_state = 0)"
   ]
  },
  {
   "cell_type": "markdown",
   "id": "000cc9b4",
   "metadata": {},
   "source": [
    "### DT classifier"
   ]
  },
  {
   "cell_type": "code",
   "execution_count": 10,
   "id": "b6d948c2",
   "metadata": {},
   "outputs": [],
   "source": [
    "clf = DecisionTreeClassifier()\n",
    "y_pred = clf.fit(X_train, y_train).predict(X_test)"
   ]
  },
  {
   "cell_type": "code",
   "execution_count": 11,
   "id": "157e6d92",
   "metadata": {},
   "outputs": [
    {
     "name": "stdout",
     "output_type": "stream",
     "text": [
      "confusion_matrix: \n",
      " [[6617757   94278]\n",
      " [1269830  103929]]\n",
      "\n",
      "TN: 6617757, FP: 94278, FN: 1269830, TP: 103929\n"
     ]
    }
   ],
   "source": [
    "# Define confusion matrix and four categories\n",
    "conf_matrix = confusion_matrix(y_test, y_pred)\n",
    "tn = conf_matrix[0][0]\n",
    "fp = conf_matrix[0][1]\n",
    "fn = conf_matrix[1][0]\n",
    "tp = conf_matrix[1][1]\n",
    "\n",
    "print(\"confusion_matrix: \\n\", conf_matrix)\n",
    "print(\"\\nTN: %s, FP: %s, FN: %s, TP: %s\" %(tn, fp, fn, tp))"
   ]
  },
  {
   "cell_type": "code",
   "execution_count": 12,
   "id": "b9419a53",
   "metadata": {},
   "outputs": [],
   "source": [
    "# Compute confusion matrix and get four categories\n",
    "conf_matrix = confusion_matrix(y_test, y_pred)\n",
    "tn, fp, fn, tp = conf_matrix.ravel()"
   ]
  },
  {
   "cell_type": "code",
   "execution_count": 13,
   "id": "d5b2eb67",
   "metadata": {},
   "outputs": [
    {
     "name": "stdout",
     "output_type": "stream",
     "text": [
      "Total return: 20785.8 \n",
      "Total cost: 9910.35 \n",
      "ROI: 2.0974\n"
     ]
    }
   ],
   "source": [
    "# Calculate total return, total spent, and ROI\n",
    "r = 0.2\n",
    "cost = 0.05\n",
    "total_return = calc_total_return(tp=tp , r=r)\n",
    "total_cost = calc_total_cost(fp=fp, tp=tp, cost=cost)\n",
    "roi = calc_roi(total_return=total_return, total_cost=total_cost)\n",
    "print(\"Total return: %s \\nTotal cost: %s \\nROI: %s\" %(\n",
    "  round(total_return,2), round(total_cost,2), round(roi,4)))"
   ]
  },
  {
   "cell_type": "code",
   "execution_count": 14,
   "id": "6dfe0506",
   "metadata": {},
   "outputs": [
    {
     "name": "stdout",
     "output_type": "stream",
     "text": [
      "Precision: 0.7855484472239275, Recall: 0.8312957268018453\n"
     ]
    }
   ],
   "source": [
    "# Evaluate precision and recall\n",
    "## using average = 'weighted' bc class imbalance; \n",
    "## from docs: 'weighted': Calculate metrics for each label, and find their average weighted by support (the number of true instances for each label). This alters 'macro' to account for label imbalance; \n",
    "## it can result in an F-score that is not between precision and recall.\n",
    "prec = precision_score(y_test, y_pred, average = 'weighted')\n",
    "recall = recall_score(y_test, y_pred, average = 'weighted')\n",
    "print(\"Precision: %s, Recall: %s\" %(prec, recall))"
   ]
  },
  {
   "cell_type": "code",
   "execution_count": null,
   "id": "34a481df",
   "metadata": {},
   "outputs": [],
   "source": []
  }
 ],
 "metadata": {
  "kernelspec": {
   "display_name": "Python 3",
   "language": "python",
   "name": "python3"
  },
  "language_info": {
   "codemirror_mode": {
    "name": "ipython",
    "version": 3
   },
   "file_extension": ".py",
   "mimetype": "text/x-python",
   "name": "python",
   "nbconvert_exporter": "python",
   "pygments_lexer": "ipython3",
   "version": "3.12.4"
  }
 },
 "nbformat": 4,
 "nbformat_minor": 5
}
