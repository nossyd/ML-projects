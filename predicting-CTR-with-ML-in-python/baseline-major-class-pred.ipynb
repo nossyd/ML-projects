{
 "cells": [
  {
   "cell_type": "code",
   "execution_count": null,
   "id": "fc7f770f",
   "metadata": {},
   "outputs": [],
   "source": [
    "import pandas as pd\n",
    "from sklearn.tree import DecisionTreeClassifier\n",
    "from sklearn.linear_model import LogisticRegression\n",
    "from sklearn.model_selection import train_test_split\n",
    "from sklearn.metrics import confusion_matrix, precision_score, recall_score\n",
    "import numpy as np\n",
    "from utils import *"
   ]
  },
  {
   "cell_type": "code",
   "execution_count": null,
   "id": "318974e1",
   "metadata": {},
   "outputs": [],
   "source": [
    "df_train = pd.read_csv('/Users/dysson/Downloads/train.gz',compression='gzip')"
   ]
  },
  {
   "cell_type": "code",
   "execution_count": null,
   "id": "640f858c",
   "metadata": {},
   "outputs": [],
   "source": [
    "df_train.rename(columns = {'C1': 'search_engine_type', 'C14': 'product_type', 'C15': 'advertiser_type'}, inplace = True)"
   ]
  },
  {
   "cell_type": "code",
   "execution_count": null,
   "id": "496c0832",
   "metadata": {},
   "outputs": [],
   "source": [
    "# Define X and y\n",
    "X = df_train.loc[:, ~df_train.columns.isin(['click'])]\n",
    "y = df_train.click"
   ]
  },
  {
   "cell_type": "code",
   "execution_count": null,
   "id": "eded2076",
   "metadata": {},
   "outputs": [],
   "source": [
    "X_reduce = X[['hour', 'search_engine_type', 'banner_pos', 'device_type', 'device_conn_type', 'product_type', 'advertiser_type', 'C16', 'C17', 'C18', 'C19', 'C20', 'C21']]"
   ]
  },
  {
   "cell_type": "code",
   "execution_count": null,
   "id": "71839dae",
   "metadata": {},
   "outputs": [],
   "source": [
    "# Set up classifier using training data to predict test data\n",
    "X_train, X_test, y_train, y_test = train_test_split(\n",
    "  X_reduce, y, test_size = .2, random_state = 0)"
   ]
  },
  {
   "cell_type": "markdown",
   "id": "f48e7586",
   "metadata": {},
   "source": [
    "### baseline classifier"
   ]
  },
  {
   "cell_type": "code",
   "execution_count": null,
   "id": "4f93943f",
   "metadata": {},
   "outputs": [],
   "source": [
    "# eval trained model vs baseline model that selects majority class due to class imbalance\n",
    "# Set up baseline predictions\n",
    "y_pred_baseline = np.asarray([0 for x in range(len(X_test))])"
   ]
  },
  {
   "cell_type": "code",
   "execution_count": null,
   "id": "64e61d93",
   "metadata": {},
   "outputs": [],
   "source": [
    "# Look at confusion matrix\n",
    "print(\"Confusion matrix: \")\n",
    "print(confusion_matrix(y_test, y_pred_baseline))"
   ]
  },
  {
   "cell_type": "code",
   "execution_count": null,
   "id": "7c489400",
   "metadata": {},
   "outputs": [],
   "source": [
    "# Check precision and recall\n",
    "prec_baseline = precision_score(y_test, y_pred_baseline, average = 'weighted')\n",
    "recall_baseline = recall_score(y_test, y_pred_baseline, average = 'weighted')\n",
    "print(\"Precision: %s, Recall: %s\" %(prec_baseline, recall_baseline))"
   ]
  }
 ],
 "metadata": {
  "language_info": {
   "name": "python"
  }
 },
 "nbformat": 4,
 "nbformat_minor": 5
}
