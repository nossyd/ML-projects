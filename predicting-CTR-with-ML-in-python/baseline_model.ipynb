{
 "cells": [
  {
   "cell_type": "code",
   "execution_count": 36,
   "id": "93fc8211",
   "metadata": {},
   "outputs": [],
   "source": [
    "import pandas as pd\n",
    "from sklearn.model_selection import train_test_split\n",
    "from sklearn.tree import DecisionTreeClassifier\n",
    "from sklearn.metrics import accuracy_score, roc_curve, auc"
   ]
  },
  {
   "cell_type": "code",
   "execution_count": 7,
   "id": "b6e1920d",
   "metadata": {},
   "outputs": [],
   "source": [
    "df_train = pd.read_csv('/Users/dysson/Downloads/train.gz',compression='gzip')\n",
    "df_test = pd.read_csv('/Users/dysson/Downloads/test.gz',compression='gzip')"
   ]
  },
  {
   "cell_type": "code",
   "execution_count": null,
   "id": "95c22cee",
   "metadata": {},
   "outputs": [],
   "source": [
    "df_train.head()"
   ]
  },
  {
   "cell_type": "code",
   "execution_count": null,
   "id": "b2ca38a5",
   "metadata": {},
   "outputs": [
    {
     "data": {
      "text/html": [
       "<div>\n",
       "<style scoped>\n",
       "    .dataframe tbody tr th:only-of-type {\n",
       "        vertical-align: middle;\n",
       "    }\n",
       "\n",
       "    .dataframe tbody tr th {\n",
       "        vertical-align: top;\n",
       "    }\n",
       "\n",
       "    .dataframe thead th {\n",
       "        text-align: right;\n",
       "    }\n",
       "</style>\n",
       "<table border=\"1\" class=\"dataframe\">\n",
       "  <thead>\n",
       "    <tr style=\"text-align: right;\">\n",
       "      <th></th>\n",
       "      <th>id</th>\n",
       "      <th>hour</th>\n",
       "      <th>C1</th>\n",
       "      <th>banner_pos</th>\n",
       "      <th>site_id</th>\n",
       "      <th>site_domain</th>\n",
       "      <th>site_category</th>\n",
       "      <th>app_id</th>\n",
       "      <th>app_domain</th>\n",
       "      <th>app_category</th>\n",
       "      <th>...</th>\n",
       "      <th>device_type</th>\n",
       "      <th>device_conn_type</th>\n",
       "      <th>C14</th>\n",
       "      <th>C15</th>\n",
       "      <th>C16</th>\n",
       "      <th>C17</th>\n",
       "      <th>C18</th>\n",
       "      <th>C19</th>\n",
       "      <th>C20</th>\n",
       "      <th>C21</th>\n",
       "    </tr>\n",
       "  </thead>\n",
       "  <tbody>\n",
       "    <tr>\n",
       "      <th>0</th>\n",
       "      <td>1.000017e+19</td>\n",
       "      <td>14103100</td>\n",
       "      <td>1005</td>\n",
       "      <td>0</td>\n",
       "      <td>235ba823</td>\n",
       "      <td>f6ebf28e</td>\n",
       "      <td>f028772b</td>\n",
       "      <td>ecad2386</td>\n",
       "      <td>7801e8d9</td>\n",
       "      <td>07d7df22</td>\n",
       "      <td>...</td>\n",
       "      <td>1</td>\n",
       "      <td>0</td>\n",
       "      <td>8330</td>\n",
       "      <td>320</td>\n",
       "      <td>50</td>\n",
       "      <td>761</td>\n",
       "      <td>3</td>\n",
       "      <td>175</td>\n",
       "      <td>100075</td>\n",
       "      <td>23</td>\n",
       "    </tr>\n",
       "    <tr>\n",
       "      <th>1</th>\n",
       "      <td>1.000018e+19</td>\n",
       "      <td>14103100</td>\n",
       "      <td>1005</td>\n",
       "      <td>0</td>\n",
       "      <td>1fbe01fe</td>\n",
       "      <td>f3845767</td>\n",
       "      <td>28905ebd</td>\n",
       "      <td>ecad2386</td>\n",
       "      <td>7801e8d9</td>\n",
       "      <td>07d7df22</td>\n",
       "      <td>...</td>\n",
       "      <td>1</td>\n",
       "      <td>0</td>\n",
       "      <td>22676</td>\n",
       "      <td>320</td>\n",
       "      <td>50</td>\n",
       "      <td>2616</td>\n",
       "      <td>0</td>\n",
       "      <td>35</td>\n",
       "      <td>100083</td>\n",
       "      <td>51</td>\n",
       "    </tr>\n",
       "    <tr>\n",
       "      <th>2</th>\n",
       "      <td>1.000055e+19</td>\n",
       "      <td>14103100</td>\n",
       "      <td>1005</td>\n",
       "      <td>0</td>\n",
       "      <td>1fbe01fe</td>\n",
       "      <td>f3845767</td>\n",
       "      <td>28905ebd</td>\n",
       "      <td>ecad2386</td>\n",
       "      <td>7801e8d9</td>\n",
       "      <td>07d7df22</td>\n",
       "      <td>...</td>\n",
       "      <td>1</td>\n",
       "      <td>0</td>\n",
       "      <td>22676</td>\n",
       "      <td>320</td>\n",
       "      <td>50</td>\n",
       "      <td>2616</td>\n",
       "      <td>0</td>\n",
       "      <td>35</td>\n",
       "      <td>100083</td>\n",
       "      <td>51</td>\n",
       "    </tr>\n",
       "    <tr>\n",
       "      <th>3</th>\n",
       "      <td>1.000109e+19</td>\n",
       "      <td>14103100</td>\n",
       "      <td>1005</td>\n",
       "      <td>0</td>\n",
       "      <td>85f751fd</td>\n",
       "      <td>c4e18dd6</td>\n",
       "      <td>50e219e0</td>\n",
       "      <td>51cedd4e</td>\n",
       "      <td>aefc06bd</td>\n",
       "      <td>0f2161f8</td>\n",
       "      <td>...</td>\n",
       "      <td>1</td>\n",
       "      <td>0</td>\n",
       "      <td>18648</td>\n",
       "      <td>320</td>\n",
       "      <td>50</td>\n",
       "      <td>1092</td>\n",
       "      <td>3</td>\n",
       "      <td>809</td>\n",
       "      <td>100156</td>\n",
       "      <td>61</td>\n",
       "    </tr>\n",
       "    <tr>\n",
       "      <th>4</th>\n",
       "      <td>1.000138e+19</td>\n",
       "      <td>14103100</td>\n",
       "      <td>1005</td>\n",
       "      <td>0</td>\n",
       "      <td>85f751fd</td>\n",
       "      <td>c4e18dd6</td>\n",
       "      <td>50e219e0</td>\n",
       "      <td>9c13b419</td>\n",
       "      <td>2347f47a</td>\n",
       "      <td>f95efa07</td>\n",
       "      <td>...</td>\n",
       "      <td>1</td>\n",
       "      <td>0</td>\n",
       "      <td>23160</td>\n",
       "      <td>320</td>\n",
       "      <td>50</td>\n",
       "      <td>2667</td>\n",
       "      <td>0</td>\n",
       "      <td>47</td>\n",
       "      <td>-1</td>\n",
       "      <td>221</td>\n",
       "    </tr>\n",
       "  </tbody>\n",
       "</table>\n",
       "<p>5 rows × 23 columns</p>\n",
       "</div>"
      ],
      "text/plain": [
       "             id      hour    C1  banner_pos   site_id site_domain  \\\n",
       "0  1.000017e+19  14103100  1005           0  235ba823    f6ebf28e   \n",
       "1  1.000018e+19  14103100  1005           0  1fbe01fe    f3845767   \n",
       "2  1.000055e+19  14103100  1005           0  1fbe01fe    f3845767   \n",
       "3  1.000109e+19  14103100  1005           0  85f751fd    c4e18dd6   \n",
       "4  1.000138e+19  14103100  1005           0  85f751fd    c4e18dd6   \n",
       "\n",
       "  site_category    app_id app_domain app_category  ... device_type  \\\n",
       "0      f028772b  ecad2386   7801e8d9     07d7df22  ...           1   \n",
       "1      28905ebd  ecad2386   7801e8d9     07d7df22  ...           1   \n",
       "2      28905ebd  ecad2386   7801e8d9     07d7df22  ...           1   \n",
       "3      50e219e0  51cedd4e   aefc06bd     0f2161f8  ...           1   \n",
       "4      50e219e0  9c13b419   2347f47a     f95efa07  ...           1   \n",
       "\n",
       "  device_conn_type    C14  C15  C16   C17  C18  C19     C20  C21  \n",
       "0                0   8330  320   50   761    3  175  100075   23  \n",
       "1                0  22676  320   50  2616    0   35  100083   51  \n",
       "2                0  22676  320   50  2616    0   35  100083   51  \n",
       "3                0  18648  320   50  1092    3  809  100156   61  \n",
       "4                0  23160  320   50  2667    0   47      -1  221  \n",
       "\n",
       "[5 rows x 23 columns]"
      ]
     },
     "execution_count": 4,
     "metadata": {},
     "output_type": "execute_result"
    }
   ],
   "source": [
    "df_test.head()"
   ]
  },
  {
   "cell_type": "code",
   "execution_count": 14,
   "id": "fc681e21",
   "metadata": {},
   "outputs": [],
   "source": [
    "# Define X and y\n",
    "X = df_train.loc[:, ~df_train.columns.isin(['click'])]\n",
    "y = df_train.click"
   ]
  },
  {
   "cell_type": "code",
   "execution_count": 13,
   "id": "3b4e5a4c",
   "metadata": {},
   "outputs": [
    {
     "name": "stdout",
     "output_type": "stream",
     "text": [
      "Sample CTR :\n",
      " 0.1698\n"
     ]
    }
   ],
   "source": [
    "# Sample CTR\n",
    "print(\"Sample CTR :\\n\", \n",
    "      round(y.sum()/len(y),4))"
   ]
  },
  {
   "cell_type": "code",
   "execution_count": 15,
   "id": "93ec580e",
   "metadata": {},
   "outputs": [
    {
     "name": "stdout",
     "output_type": "stream",
     "text": [
      "Distribution of device type: \n",
      "device_type\n",
      "1    9.227213e-01\n",
      "0    5.493121e-02\n",
      "4    1.915142e-02\n",
      "5    3.195357e-03\n",
      "2    7.667769e-07\n",
      "Name: count, dtype: float64\n"
     ]
    }
   ],
   "source": [
    "# Distribution of values for device type\n",
    "print(\"Distribution of device type: \")\n",
    "print(X.device_type.value_counts()/len(X))"
   ]
  },
  {
   "cell_type": "code",
   "execution_count": 17,
   "id": "57e52dfd",
   "metadata": {},
   "outputs": [
    {
     "name": "stdout",
     "output_type": "stream",
     "text": [
      "CTR by device type: \n",
      "device_type\n",
      "0    1.157573e-02\n",
      "1    1.561021e-01\n",
      "2    4.946948e-08\n",
      "4    1.827897e-03\n",
      "5    2.998593e-04\n",
      "Name: click, dtype: float64\n"
     ]
    }
   ],
   "source": [
    "# Sample CTR by device type \n",
    "print(\"CTR by device type: \")\n",
    "print(df_train.groupby('device_type')['click'].sum()/len(y))"
   ]
  },
  {
   "cell_type": "code",
   "execution_count": 18,
   "id": "d5c4c831",
   "metadata": {},
   "outputs": [
    {
     "name": "stdout",
     "output_type": "stream",
     "text": [
      "Distribution of banner position: \n",
      "banner_pos\n",
      "0    0.720018\n",
      "1    0.278199\n",
      "7    0.001078\n",
      "2    0.000322\n",
      "4    0.000191\n",
      "5    0.000143\n",
      "3    0.000050\n",
      "Name: count, dtype: float64\n"
     ]
    }
   ],
   "source": [
    "# Distribution of values for banner position\n",
    "print(\"Distribution of banner position: \")\n",
    "print(X.banner_pos.value_counts()/len(X))"
   ]
  },
  {
   "cell_type": "code",
   "execution_count": 19,
   "id": "7395367d",
   "metadata": {},
   "outputs": [
    {
     "name": "stdout",
     "output_type": "stream",
     "text": [
      "CTR by banner position: \n",
      "banner_pos\n",
      "0    0.118279\n",
      "1    0.051081\n",
      "2    0.000038\n",
      "3    0.000009\n",
      "4    0.000035\n",
      "5    0.000017\n",
      "7    0.000345\n",
      "Name: click, dtype: float64\n"
     ]
    }
   ],
   "source": [
    "# Sample CTR by banner position\n",
    "print(\"CTR by banner position: \")\n",
    "print(df_train.groupby('banner_pos')['click'].sum()/len(y))"
   ]
  },
  {
   "cell_type": "markdown",
   "id": "90e0e9fb",
   "metadata": {},
   "source": [
    "### baseline model"
   ]
  },
  {
   "cell_type": "code",
   "execution_count": null,
   "id": "e58604bb",
   "metadata": {},
   "outputs": [
    {
     "data": {
      "text/plain": [
       "0    44956a24\n",
       "1    711ee120\n",
       "2    8a4875bd\n",
       "3    6332421a\n",
       "4    779d90c2\n",
       "Name: device_model, dtype: object"
      ]
     },
     "execution_count": 29,
     "metadata": {},
     "output_type": "execute_result"
    }
   ],
   "source": [
    "X.head()"
   ]
  },
  {
   "cell_type": "code",
   "execution_count": 26,
   "id": "2b551250",
   "metadata": {},
   "outputs": [
    {
     "name": "stdout",
     "output_type": "stream",
     "text": [
      "<class 'pandas.core.frame.DataFrame'>\n",
      "RangeIndex: 40428967 entries, 0 to 40428966\n",
      "Data columns (total 23 columns):\n",
      " #   Column            Dtype  \n",
      "---  ------            -----  \n",
      " 0   id                float64\n",
      " 1   hour              int64  \n",
      " 2   C1                int64  \n",
      " 3   banner_pos        int64  \n",
      " 4   site_id           object \n",
      " 5   site_domain       object \n",
      " 6   site_category     object \n",
      " 7   app_id            object \n",
      " 8   app_domain        object \n",
      " 9   app_category      object \n",
      " 10  device_id         object \n",
      " 11  device_ip         object \n",
      " 12  device_model      object \n",
      " 13  device_type       int64  \n",
      " 14  device_conn_type  int64  \n",
      " 15  C14               int64  \n",
      " 16  C15               int64  \n",
      " 17  C16               int64  \n",
      " 18  C17               int64  \n",
      " 19  C18               int64  \n",
      " 20  C19               int64  \n",
      " 21  C20               int64  \n",
      " 22  C21               int64  \n",
      "dtypes: float64(1), int64(13), object(9)\n",
      "memory usage: 6.9+ GB\n"
     ]
    }
   ],
   "source": [
    "X.info()"
   ]
  },
  {
   "cell_type": "code",
   "execution_count": 30,
   "id": "3c708b63",
   "metadata": {},
   "outputs": [],
   "source": [
    "X_reduce = X[['hour', 'C1', 'banner_pos', 'device_type', 'device_conn_type', 'C14', 'C15', 'C16', 'C17', 'C18', 'C19', 'C20', 'C21']]\n",
    "# NOTE: missing 'device_model_int'"
   ]
  },
  {
   "cell_type": "code",
   "execution_count": 31,
   "id": "1c40dfe7",
   "metadata": {},
   "outputs": [],
   "source": [
    "# Define training and testing\n",
    "X_train, X_valid, y_train, y_valid = \\\n",
    "\ttrain_test_split(X_reduce, y, test_size = .2, random_state = 0)"
   ]
  },
  {
   "cell_type": "code",
   "execution_count": 32,
   "id": "01b0685e",
   "metadata": {},
   "outputs": [
    {
     "data": {
      "text/html": [
       "<div>\n",
       "<style scoped>\n",
       "    .dataframe tbody tr th:only-of-type {\n",
       "        vertical-align: middle;\n",
       "    }\n",
       "\n",
       "    .dataframe tbody tr th {\n",
       "        vertical-align: top;\n",
       "    }\n",
       "\n",
       "    .dataframe thead th {\n",
       "        text-align: right;\n",
       "    }\n",
       "</style>\n",
       "<table border=\"1\" class=\"dataframe\">\n",
       "  <thead>\n",
       "    <tr style=\"text-align: right;\">\n",
       "      <th></th>\n",
       "      <th>hour</th>\n",
       "      <th>C1</th>\n",
       "      <th>banner_pos</th>\n",
       "      <th>device_type</th>\n",
       "      <th>device_conn_type</th>\n",
       "      <th>C14</th>\n",
       "      <th>C15</th>\n",
       "      <th>C16</th>\n",
       "      <th>C17</th>\n",
       "      <th>C18</th>\n",
       "      <th>C19</th>\n",
       "      <th>C20</th>\n",
       "      <th>C21</th>\n",
       "    </tr>\n",
       "  </thead>\n",
       "  <tbody>\n",
       "    <tr>\n",
       "      <th>8551471</th>\n",
       "      <td>14102217</td>\n",
       "      <td>1005</td>\n",
       "      <td>1</td>\n",
       "      <td>1</td>\n",
       "      <td>0</td>\n",
       "      <td>17894</td>\n",
       "      <td>320</td>\n",
       "      <td>50</td>\n",
       "      <td>2039</td>\n",
       "      <td>2</td>\n",
       "      <td>39</td>\n",
       "      <td>100075</td>\n",
       "      <td>32</td>\n",
       "    </tr>\n",
       "    <tr>\n",
       "      <th>39634055</th>\n",
       "      <td>14103017</td>\n",
       "      <td>1010</td>\n",
       "      <td>1</td>\n",
       "      <td>4</td>\n",
       "      <td>2</td>\n",
       "      <td>23642</td>\n",
       "      <td>320</td>\n",
       "      <td>50</td>\n",
       "      <td>2709</td>\n",
       "      <td>3</td>\n",
       "      <td>39</td>\n",
       "      <td>-1</td>\n",
       "      <td>23</td>\n",
       "    </tr>\n",
       "    <tr>\n",
       "      <th>22377501</th>\n",
       "      <td>14102613</td>\n",
       "      <td>1005</td>\n",
       "      <td>1</td>\n",
       "      <td>1</td>\n",
       "      <td>0</td>\n",
       "      <td>22268</td>\n",
       "      <td>320</td>\n",
       "      <td>50</td>\n",
       "      <td>2566</td>\n",
       "      <td>3</td>\n",
       "      <td>41</td>\n",
       "      <td>100156</td>\n",
       "      <td>42</td>\n",
       "    </tr>\n",
       "    <tr>\n",
       "      <th>14689278</th>\n",
       "      <td>14102409</td>\n",
       "      <td>1005</td>\n",
       "      <td>1</td>\n",
       "      <td>1</td>\n",
       "      <td>0</td>\n",
       "      <td>21875</td>\n",
       "      <td>320</td>\n",
       "      <td>50</td>\n",
       "      <td>2526</td>\n",
       "      <td>0</td>\n",
       "      <td>167</td>\n",
       "      <td>100075</td>\n",
       "      <td>221</td>\n",
       "    </tr>\n",
       "    <tr>\n",
       "      <th>32175767</th>\n",
       "      <td>14102822</td>\n",
       "      <td>1005</td>\n",
       "      <td>1</td>\n",
       "      <td>1</td>\n",
       "      <td>0</td>\n",
       "      <td>17262</td>\n",
       "      <td>320</td>\n",
       "      <td>50</td>\n",
       "      <td>1872</td>\n",
       "      <td>3</td>\n",
       "      <td>39</td>\n",
       "      <td>-1</td>\n",
       "      <td>23</td>\n",
       "    </tr>\n",
       "  </tbody>\n",
       "</table>\n",
       "</div>"
      ],
      "text/plain": [
       "              hour    C1  banner_pos  device_type  device_conn_type    C14  \\\n",
       "8551471   14102217  1005           1            1                 0  17894   \n",
       "39634055  14103017  1010           1            4                 2  23642   \n",
       "22377501  14102613  1005           1            1                 0  22268   \n",
       "14689278  14102409  1005           1            1                 0  21875   \n",
       "32175767  14102822  1005           1            1                 0  17262   \n",
       "\n",
       "          C15  C16   C17  C18  C19     C20  C21  \n",
       "8551471   320   50  2039    2   39  100075   32  \n",
       "39634055  320   50  2709    3   39      -1   23  \n",
       "22377501  320   50  2566    3   41  100156   42  \n",
       "14689278  320   50  2526    0  167  100075  221  \n",
       "32175767  320   50  1872    3   39      -1   23  "
      ]
     },
     "execution_count": 32,
     "metadata": {},
     "output_type": "execute_result"
    }
   ],
   "source": [
    "X_valid.head()"
   ]
  },
  {
   "cell_type": "code",
   "execution_count": null,
   "id": "c552362f",
   "metadata": {},
   "outputs": [
    {
     "name": "stdout",
     "output_type": "stream",
     "text": [
      "0.8312990659915402\n"
     ]
    }
   ],
   "source": [
    "# Create decision tree classifier\n",
    "clf = DecisionTreeClassifier()\n",
    "\n",
    "# Train classifier - predict label and evaluate accuracy\n",
    "y_pred = clf.fit(X_train, y_train).predict(X_valid)\n",
    "print(accuracy_score(y_valid, y_pred))"
   ]
  },
  {
   "cell_type": "code",
   "execution_count": 34,
   "id": "1f7cd0ec",
   "metadata": {},
   "outputs": [],
   "source": [
    "y_score = clf.fit(X_train, y_train).predict_proba(X_valid)"
   ]
  },
  {
   "cell_type": "code",
   "execution_count": 37,
   "id": "924038a2",
   "metadata": {},
   "outputs": [
    {
     "name": "stdout",
     "output_type": "stream",
     "text": [
      "0.7068877963108704\n"
     ]
    }
   ],
   "source": [
    "# Get ROC curve metrics\n",
    "fpr, tpr, thresholds = roc_curve(y_valid, y_score[:, 1])\n",
    "roc_auc = auc(fpr, tpr)\n",
    "print(roc_auc)"
   ]
  },
  {
   "cell_type": "code",
   "execution_count": null,
   "id": "b3d13d27",
   "metadata": {},
   "outputs": [],
   "source": []
  }
 ],
 "metadata": {
  "kernelspec": {
   "display_name": "Python 3",
   "language": "python",
   "name": "python3"
  },
  "language_info": {
   "codemirror_mode": {
    "name": "ipython",
    "version": 3
   },
   "file_extension": ".py",
   "mimetype": "text/x-python",
   "name": "python",
   "nbconvert_exporter": "python",
   "pygments_lexer": "ipython3",
   "version": "3.12.4"
  }
 },
 "nbformat": 4,
 "nbformat_minor": 5
}
