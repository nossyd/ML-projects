{
 "cells": [
  {
   "cell_type": "code",
   "execution_count": 1,
   "id": "d8e3c7eb",
   "metadata": {},
   "outputs": [],
   "source": [
    "import pandas as pd\n",
    "from sklearn.linear_model import LogisticRegression\n",
    "from sklearn.model_selection import train_test_split\n",
    "from sklearn.metrics import confusion_matrix, precision_score, recall_score\n",
    "import numpy as np\n",
    "from utils import *"
   ]
  },
  {
   "cell_type": "code",
   "execution_count": null,
   "id": "9790d9c8",
   "metadata": {},
   "outputs": [],
   "source": [
    "df_train = pd.read_csv('/Users/dysson/Downloads/train.gz',compression='gzip')"
   ]
  },
  {
   "cell_type": "code",
   "execution_count": null,
   "id": "194c29d2",
   "metadata": {},
   "outputs": [],
   "source": [
    "df_train.rename(columns = {'C1': 'search_engine_type', 'C14': 'product_type', 'C15': 'advertiser_type'}, inplace = True)"
   ]
  },
  {
   "cell_type": "code",
   "execution_count": null,
   "id": "2a7d93ae",
   "metadata": {},
   "outputs": [],
   "source": [
    "# Define X and y\n",
    "X = df_train.loc[:, ~df_train.columns.isin(['click'])]\n",
    "y = df_train.click"
   ]
  },
  {
   "cell_type": "code",
   "execution_count": null,
   "id": "6e965c1d",
   "metadata": {},
   "outputs": [],
   "source": [
    "X_reduce = X[['hour', 'search_engine_type', 'banner_pos', 'device_type', 'device_conn_type', 'product_type', 'advertiser_type', 'C16', 'C17', 'C18', 'C19', 'C20', 'C21']]"
   ]
  },
  {
   "cell_type": "code",
   "execution_count": null,
   "id": "3349301a",
   "metadata": {},
   "outputs": [],
   "source": [
    "# Set up classifier using training data to predict test data\n",
    "X_train, X_test, y_train, y_test = train_test_split(\n",
    "  X_reduce, y, test_size = .2, random_state = 0)"
   ]
  },
  {
   "cell_type": "markdown",
   "id": "af341e01",
   "metadata": {},
   "source": [
    "### logistic regression"
   ]
  },
  {
   "cell_type": "code",
   "execution_count": null,
   "id": "336ef42b",
   "metadata": {},
   "outputs": [],
   "source": [
    "clf_lr = LogisticRegression()\n",
    "y_pred_lr = clf_lr.fit(X_train, y_train).predict(X_test)"
   ]
  },
  {
   "cell_type": "code",
   "execution_count": null,
   "id": "1a481a1a",
   "metadata": {},
   "outputs": [],
   "source": [
    "confusion_matrix(y_test, y_pred_lr)"
   ]
  },
  {
   "cell_type": "code",
   "execution_count": null,
   "id": "1c3454fc",
   "metadata": {},
   "outputs": [],
   "source": [
    "tn_lr, fp_lr, fn_lr, tp_lr = confusion_matrix(y_test, y_pred_lr).ravel()"
   ]
  },
  {
   "cell_type": "code",
   "execution_count": null,
   "id": "13a43658",
   "metadata": {},
   "outputs": [],
   "source": [
    "# Calculate total return, total spent, and ROI\n",
    "r = 0.2\n",
    "cost = 0.05\n",
    "total_return_lr = calc_total_return(tp=tn_lr , r=r)\n",
    "total_cost_lr = calc_total_cost(fp=fp_lr, tp=tn_lr, cost=cost)\n",
    "roi_lr = calc_roi(total_return=total_return_lr, total_cost=total_cost_lr)\n",
    "print(\"Total return: %s \\nTotal cost: %s \\nROI: %s\" %(\n",
    "  round(total_return_lr,2), round(total_cost_lr,2), round(roi_lr,4)))"
   ]
  }
 ],
 "metadata": {
  "kernelspec": {
   "display_name": "Python 3",
   "language": "python",
   "name": "python3"
  },
  "language_info": {
   "codemirror_mode": {
    "name": "ipython",
    "version": 3
   },
   "file_extension": ".py",
   "mimetype": "text/x-python",
   "name": "python",
   "nbconvert_exporter": "python",
   "pygments_lexer": "ipython3",
   "version": "3.12.4"
  }
 },
 "nbformat": 4,
 "nbformat_minor": 5
}
