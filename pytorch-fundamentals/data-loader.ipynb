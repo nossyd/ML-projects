{
 "cells": [
  {
   "cell_type": "code",
   "execution_count": 8,
   "id": "280a92c9",
   "metadata": {},
   "outputs": [],
   "source": [
    "import torch\n",
    "from torch.utils.data import Dataset, DataLoader"
   ]
  },
  {
   "cell_type": "markdown",
   "id": "e0457afa",
   "metadata": {},
   "source": [
    "### create ToyDataset"
   ]
  },
  {
   "cell_type": "code",
   "execution_count": 2,
   "id": "b1fb2a31",
   "metadata": {},
   "outputs": [],
   "source": [
    "# create Toy dataset\n",
    "X_train = torch.tensor([\n",
    "    [-1.2, 3.1],\n",
    "    [-0.9, 2.9],\n",
    "    [-0.5, 2.6],\n",
    "    [2.3, -1.1],\n",
    "    [2.7, -1.5]\n",
    "])\n",
    "y_train = torch.tensor([0,0,0,1,1])\n",
    "\n",
    "X_test = torch.tensor([\n",
    "    [-0.8, 2.8],\n",
    "    [2.6, -1.6]\n",
    "])\n",
    "y_test = torch.tensor([0,1])"
   ]
  },
  {
   "cell_type": "code",
   "execution_count": 6,
   "id": "997edd36",
   "metadata": {},
   "outputs": [],
   "source": [
    "# create custome dataset class\n",
    "class ToyDataset(Dataset):\n",
    "    def __init__(self, X, y):\n",
    "        # these vars could be file paths, file objects, database connectors, etc. we are using X,y bc created toydataset above sitting in mem\n",
    "        self.features = X\n",
    "        self.labels = y\n",
    "\n",
    "    def __getitem__(self, index):\n",
    "        # retrieve exactly one data record and corresponding label\n",
    "        one_x = self.features[index]\n",
    "        one_y = self.labels[index]\n",
    "        return one_x, one_y\n",
    "    \n",
    "    def __len__(self):\n",
    "        # return dataset row len\n",
    "        return self.labels.shape[0]"
   ]
  },
  {
   "cell_type": "code",
   "execution_count": 5,
   "id": "877f3cf1",
   "metadata": {},
   "outputs": [],
   "source": [
    "train_ds = ToyDataset(X_train, y_train)\n",
    "test_ds = ToyDataset(X_test, y_test)"
   ]
  },
  {
   "cell_type": "code",
   "execution_count": 7,
   "id": "c3494350",
   "metadata": {},
   "outputs": [
    {
     "name": "stdout",
     "output_type": "stream",
     "text": [
      "5\n"
     ]
    }
   ],
   "source": [
    "print(len(train_ds))"
   ]
  },
  {
   "cell_type": "markdown",
   "id": "4fcdbc4f",
   "metadata": {},
   "source": [
    "### create DataLoader"
   ]
  },
  {
   "cell_type": "code",
   "execution_count": 9,
   "id": "08d26e94",
   "metadata": {},
   "outputs": [
    {
     "data": {
      "text/plain": [
       "<torch._C.Generator at 0x120cec290>"
      ]
     },
     "execution_count": 9,
     "metadata": {},
     "output_type": "execute_result"
    }
   ],
   "source": [
    "torch.manual_seed(123)"
   ]
  },
  {
   "cell_type": "code",
   "execution_count": 10,
   "id": "a944888f",
   "metadata": {},
   "outputs": [],
   "source": [
    "train_loader = DataLoader(\n",
    "    dataset=train_ds,\n",
    "    batch_size=2,\n",
    "    shuffle=True,\n",
    "    num_workers=0\n",
    ")\n",
    "\n",
    "test_loader = DataLoader(\n",
    "    dataset=test_ds,\n",
    "    batch_size=2,\n",
    "    shuffle=False,\n",
    "    num_workers=0\n",
    ")"
   ]
  },
  {
   "cell_type": "code",
   "execution_count": 11,
   "id": "d34eb30a",
   "metadata": {},
   "outputs": [
    {
     "name": "stdout",
     "output_type": "stream",
     "text": [
      "Batch 1:  tensor([[ 2.3000, -1.1000],\n",
      "        [-0.9000,  2.9000]]) tensor([1, 0])\n",
      "Batch 2:  tensor([[-1.2000,  3.1000],\n",
      "        [-0.5000,  2.6000]]) tensor([0, 0])\n",
      "Batch 3:  tensor([[ 2.7000, -1.5000]]) tensor([1])\n"
     ]
    }
   ],
   "source": [
    "# iterate over train_loader\n",
    "for idx, (x,y) in enumerate(train_loader):\n",
    "    print(f\"Batch {idx+1}: \", x, y)"
   ]
  },
  {
   "cell_type": "code",
   "execution_count": 13,
   "id": "b3630ad7",
   "metadata": {},
   "outputs": [
    {
     "name": "stdout",
     "output_type": "stream",
     "text": [
      "Batch 1:  tensor([[-0.8000,  2.8000],\n",
      "        [ 2.6000, -1.6000]]) tensor([0, 1])\n"
     ]
    }
   ],
   "source": [
    "# iterate over test_loader\n",
    "for idx, (x,y) in enumerate(test_loader):\n",
    "    print(f\"Batch {idx+1}: \", x, y)"
   ]
  },
  {
   "cell_type": "code",
   "execution_count": 15,
   "id": "688f2b2d",
   "metadata": {},
   "outputs": [],
   "source": [
    "# drop last batch in each epoch\n",
    "train_loader_drop_last = DataLoader(\n",
    "    dataset=train_ds,\n",
    "    batch_size=2,\n",
    "    shuffle=True,\n",
    "    num_workers=0,\n",
    "    drop_last=True\n",
    ")"
   ]
  },
  {
   "cell_type": "code",
   "execution_count": 16,
   "id": "b9f7e0cf",
   "metadata": {},
   "outputs": [
    {
     "name": "stdout",
     "output_type": "stream",
     "text": [
      "Batch 1:  tensor([[-0.5000,  2.6000],\n",
      "        [-0.9000,  2.9000]]) tensor([0, 0])\n",
      "Batch 2:  tensor([[-1.2000,  3.1000],\n",
      "        [ 2.3000, -1.1000]]) tensor([0, 1])\n"
     ]
    }
   ],
   "source": [
    "for idx, (x,y) in enumerate(train_loader_drop_last):\n",
    "    print(f\"Batch {idx+1}: \", x, y)"
   ]
  },
  {
   "cell_type": "code",
   "execution_count": null,
   "id": "32896563",
   "metadata": {},
   "outputs": [],
   "source": []
  }
 ],
 "metadata": {
  "kernelspec": {
   "display_name": "Python 3",
   "language": "python",
   "name": "python3"
  },
  "language_info": {
   "codemirror_mode": {
    "name": "ipython",
    "version": 3
   },
   "file_extension": ".py",
   "mimetype": "text/x-python",
   "name": "python",
   "nbconvert_exporter": "python",
   "pygments_lexer": "ipython3",
   "version": "3.12.4"
  }
 },
 "nbformat": 4,
 "nbformat_minor": 5
}
