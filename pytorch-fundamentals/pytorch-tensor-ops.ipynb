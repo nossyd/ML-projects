{
 "cells": [
  {
   "cell_type": "code",
   "execution_count": 1,
   "id": "8ca57b49",
   "metadata": {},
   "outputs": [],
   "source": [
    "import torch"
   ]
  },
  {
   "cell_type": "markdown",
   "id": "9fc37b33",
   "metadata": {},
   "source": [
    "### create pytorch tensors"
   ]
  },
  {
   "cell_type": "code",
   "execution_count": 3,
   "id": "f5132f74",
   "metadata": {},
   "outputs": [
    {
     "name": "stdout",
     "output_type": "stream",
     "text": [
      "tensor(1)\n"
     ]
    }
   ],
   "source": [
    "# zero dimensional tensor\n",
    "tensor0d = torch.tensor(1)\n",
    "print(tensor0d)"
   ]
  },
  {
   "cell_type": "code",
   "execution_count": 4,
   "id": "f00f9ac3",
   "metadata": {},
   "outputs": [
    {
     "name": "stdout",
     "output_type": "stream",
     "text": [
      "tensor([1, 2, 3])\n"
     ]
    }
   ],
   "source": [
    "# one dimensional tensor\n",
    "tensor1d = torch.tensor([1,2,3])\n",
    "print(tensor1d)"
   ]
  },
  {
   "cell_type": "code",
   "execution_count": 5,
   "id": "bbd7224a",
   "metadata": {},
   "outputs": [
    {
     "name": "stdout",
     "output_type": "stream",
     "text": [
      "tensor([[1, 2],\n",
      "        [3, 4]])\n"
     ]
    }
   ],
   "source": [
    "# two dimensional tensor\n",
    "tensor2d = torch.tensor([[1,2],\n",
    "                        [3,4]])\n",
    "print(tensor2d)"
   ]
  },
  {
   "cell_type": "code",
   "execution_count": 7,
   "id": "fdf20077",
   "metadata": {},
   "outputs": [
    {
     "name": "stdout",
     "output_type": "stream",
     "text": [
      "tensor([[[1, 2],\n",
      "         [3, 4]],\n",
      "\n",
      "        [[5, 6],\n",
      "         [7, 8]]])\n"
     ]
    }
   ],
   "source": [
    "# three dimensional tensor\n",
    "tensor3d = torch.tensor([[[1,2], [3,4]],\n",
    "                        [[5,6], [7,8]]])\n",
    "print(tensor3d)"
   ]
  },
  {
   "cell_type": "markdown",
   "id": "a6136591",
   "metadata": {},
   "source": [
    "### tensor data types"
   ]
  },
  {
   "cell_type": "code",
   "execution_count": null,
   "id": "03cc639c",
   "metadata": {},
   "outputs": [
    {
     "name": "stdout",
     "output_type": "stream",
     "text": [
      "torch.int64\n"
     ]
    }
   ],
   "source": [
    "# 64-bit int\n",
    "print(tensor1d.dtype)"
   ]
  },
  {
   "cell_type": "code",
   "execution_count": 9,
   "id": "76111e56",
   "metadata": {},
   "outputs": [
    {
     "name": "stdout",
     "output_type": "stream",
     "text": [
      "torch.float32\n"
     ]
    }
   ],
   "source": [
    "# 32-bit precision\n",
    "floatvec = torch.tensor([2.0, 3.5])\n",
    "print(floatvec.dtype)"
   ]
  },
  {
   "cell_type": "markdown",
   "id": "db23be35",
   "metadata": {},
   "source": [
    "Trade off bw 64-bit int and 32-bit precision is precision and computational efficiency. 32-bit floating bit number uses less memory and computational resources without sacrificing much precision. Additionally, GPU archs are optimized for 32-bit computations, which results in faster model training and inference."
   ]
  },
  {
   "cell_type": "code",
   "execution_count": 11,
   "id": "7d747ac7",
   "metadata": {},
   "outputs": [
    {
     "name": "stdout",
     "output_type": "stream",
     "text": [
      "torch.float32\n"
     ]
    }
   ],
   "source": [
    "# change tensors precision\n",
    "floatvec_1d_transform = tensor1d.to(torch.float32)\n",
    "print(floatvec_1d_transform.dtype)"
   ]
  },
  {
   "cell_type": "markdown",
   "id": "90bbeb33",
   "metadata": {},
   "source": [
    "### common pytorch tensor operations"
   ]
  },
  {
   "cell_type": "code",
   "execution_count": 15,
   "id": "4d80244b",
   "metadata": {},
   "outputs": [
    {
     "name": "stdout",
     "output_type": "stream",
     "text": [
      "tensor: \n",
      " tensor([[1, 2, 3],\n",
      "        [4, 5, 6]])\n",
      "tensor shape: \n",
      " torch.Size([2, 3])\n"
     ]
    }
   ],
   "source": [
    "tensor2d_2 = torch.tensor([[1,2,3],\n",
    "                           [4,5,6]])\n",
    "print(\"tensor: \\n\", tensor2d_2)\n",
    "print(\"tensor shape: \\n\", tensor2d_2.shape)"
   ]
  },
  {
   "cell_type": "code",
   "execution_count": null,
   "id": "7833f367",
   "metadata": {},
   "outputs": [
    {
     "name": "stdout",
     "output_type": "stream",
     "text": [
      "tensor([[1, 2],\n",
      "        [3, 4],\n",
      "        [5, 6]])\n"
     ]
    }
   ],
   "source": [
    "# reshape tensor\n",
    "print(tensor2d_2.reshape(3,2))"
   ]
  },
  {
   "cell_type": "code",
   "execution_count": 17,
   "id": "a24dfe93",
   "metadata": {},
   "outputs": [
    {
     "name": "stdout",
     "output_type": "stream",
     "text": [
      "tensor([[1, 4],\n",
      "        [2, 5],\n",
      "        [3, 6]])\n"
     ]
    }
   ],
   "source": [
    "# transpose tensor\n",
    "print(tensor2d_2.T)"
   ]
  },
  {
   "cell_type": "code",
   "execution_count": 18,
   "id": "3bb74e6b",
   "metadata": {},
   "outputs": [
    {
     "name": "stdout",
     "output_type": "stream",
     "text": [
      "tensor([[14, 32],\n",
      "        [32, 77]])\n"
     ]
    }
   ],
   "source": [
    "# multipy two matrices\n",
    "print(tensor2d_2.matmul(tensor2d_2.T))"
   ]
  },
  {
   "cell_type": "code",
   "execution_count": 19,
   "id": "b99b4d28",
   "metadata": {},
   "outputs": [
    {
     "name": "stdout",
     "output_type": "stream",
     "text": [
      "tensor([[14, 32],\n",
      "        [32, 77]])\n"
     ]
    }
   ],
   "source": [
    "# alternative, compact method to multipy two matrices\n",
    "print(tensor2d_2 @ tensor2d_2.T)"
   ]
  },
  {
   "cell_type": "code",
   "execution_count": null,
   "id": "7f2c14ce",
   "metadata": {},
   "outputs": [],
   "source": []
  }
 ],
 "metadata": {
  "kernelspec": {
   "display_name": "Python 3",
   "language": "python",
   "name": "python3"
  },
  "language_info": {
   "codemirror_mode": {
    "name": "ipython",
    "version": 3
   },
   "file_extension": ".py",
   "mimetype": "text/x-python",
   "name": "python",
   "nbconvert_exporter": "python",
   "pygments_lexer": "ipython3",
   "version": "3.12.4"
  }
 },
 "nbformat": 4,
 "nbformat_minor": 5
}
