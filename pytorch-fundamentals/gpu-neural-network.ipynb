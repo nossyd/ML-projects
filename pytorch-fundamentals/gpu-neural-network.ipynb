{
 "cells": [
  {
   "cell_type": "code",
   "execution_count": 1,
   "id": "58839bd8",
   "metadata": {},
   "outputs": [],
   "source": [
    "import torch\n",
    "from torch.utils.data import DataLoader, Dataset\n",
    "import torch.nn.functional as F"
   ]
  },
  {
   "cell_type": "markdown",
   "id": "3a45a6d0",
   "metadata": {},
   "source": [
    "### create model class"
   ]
  },
  {
   "cell_type": "code",
   "execution_count": 3,
   "id": "7507ce77",
   "metadata": {},
   "outputs": [],
   "source": [
    "class NeuralNetwork(torch.nn.Module):\n",
    "    # parameterize num of inputs & outputs to reuse same code for diff datasets with diff num of features and classes\n",
    "    def __init__(self, num_inputs, num_outputs):\n",
    "        super().__init__()\n",
    "\n",
    "        self.layers = torch.nn.Sequential(\n",
    "\n",
    "            # first hidden layer\n",
    "            # Linear layer takes num of input and output nodes as args\n",
    "            torch.nn.Linear(num_inputs, 30),\n",
    "            # Nonlinear activation functions are placed bw hidden layers\n",
    "            torch.nn.ReLU(),\n",
    "\n",
    "            # second hidden layer\n",
    "            # The num of output nodes in prev hidden layer is equal to input of next hidden layer\n",
    "            torch.nn.Linear(30, 20),\n",
    "            torch.nn.ReLU(),\n",
    "\n",
    "            # output layer\n",
    "            torch.nn.Linear(20, num_outputs),\n",
    "        )\n",
    "    \n",
    "    def forward(self, x):\n",
    "        logits = self.layers(x)\n",
    "        # the output of the last layer are called logits\n",
    "        return logits"
   ]
  },
  {
   "cell_type": "markdown",
   "id": "da7caac6",
   "metadata": {},
   "source": [
    "### create ToyDataset"
   ]
  },
  {
   "cell_type": "code",
   "execution_count": 4,
   "id": "332ff43a",
   "metadata": {},
   "outputs": [],
   "source": [
    "# create Toy dataset\n",
    "X_train = torch.tensor([\n",
    "    [-1.2, 3.1],\n",
    "    [-0.9, 2.9],\n",
    "    [-0.5, 2.6],\n",
    "    [2.3, -1.1],\n",
    "    [2.7, -1.5]\n",
    "])\n",
    "y_train = torch.tensor([0,0,0,1,1])\n",
    "\n",
    "X_test = torch.tensor([\n",
    "    [-0.8, 2.8],\n",
    "    [2.6, -1.6]\n",
    "])\n",
    "y_test = torch.tensor([0,1])"
   ]
  },
  {
   "cell_type": "code",
   "execution_count": 5,
   "id": "32157964",
   "metadata": {},
   "outputs": [],
   "source": [
    "# create custome dataset class\n",
    "class ToyDataset(Dataset):\n",
    "    def __init__(self, X, y):\n",
    "        # these vars could be file paths, file objects, database connectors, etc. we are using X,y bc created toydataset above sitting in mem\n",
    "        self.features = X\n",
    "        self.labels = y\n",
    "\n",
    "    def __getitem__(self, index):\n",
    "        # retrieve exactly one data record and corresponding label\n",
    "        one_x = self.features[index]\n",
    "        one_y = self.labels[index]\n",
    "        return one_x, one_y\n",
    "    \n",
    "    def __len__(self):\n",
    "        # return dataset row len\n",
    "        return self.labels.shape[0]"
   ]
  },
  {
   "cell_type": "code",
   "execution_count": 6,
   "id": "43229c72",
   "metadata": {},
   "outputs": [],
   "source": [
    "train_ds = ToyDataset(X_train, y_train)\n",
    "test_ds = ToyDataset(X_test, y_test)"
   ]
  },
  {
   "cell_type": "markdown",
   "id": "1809fafc",
   "metadata": {},
   "source": [
    "### create DataLoader"
   ]
  },
  {
   "cell_type": "code",
   "execution_count": 7,
   "id": "35879f87",
   "metadata": {},
   "outputs": [
    {
     "data": {
      "text/plain": [
       "<torch._C.Generator at 0x12897c2d0>"
      ]
     },
     "execution_count": 7,
     "metadata": {},
     "output_type": "execute_result"
    }
   ],
   "source": [
    "torch.manual_seed(123)"
   ]
  },
  {
   "cell_type": "code",
   "execution_count": 8,
   "id": "6e45631d",
   "metadata": {},
   "outputs": [],
   "source": [
    "train_loader = DataLoader(\n",
    "    dataset=train_ds,\n",
    "    batch_size=2,\n",
    "    shuffle=True,\n",
    "    num_workers=0,\n",
    "    drop_last=True\n",
    ")\n",
    "\n",
    "test_loader = DataLoader(\n",
    "    dataset=test_ds,\n",
    "    batch_size=2,\n",
    "    shuffle=False,\n",
    "    num_workers=0,\n",
    "    drop_last=True\n",
    ")"
   ]
  },
  {
   "cell_type": "markdown",
   "id": "a03b3c42",
   "metadata": {},
   "source": [
    "### train NN Model with GPU"
   ]
  },
  {
   "cell_type": "code",
   "execution_count": 16,
   "id": "f38813e5",
   "metadata": {},
   "outputs": [],
   "source": [
    "model = NeuralNetwork(num_inputs=2, num_outputs=2)\n",
    "\n",
    "# NEW GPU training code\n",
    "device = torch.device(\"cuda\" if torch.cuda.is_available() else (\"mps\" if torch.backends.mps.is_available() else \"cpu\"))\n",
    "model = model.to(device)\n",
    "\n",
    "optimizer = torch.optim.SGD(\n",
    "    model.parameters(), lr=0.5\n",
    ")"
   ]
  },
  {
   "cell_type": "code",
   "execution_count": 17,
   "id": "f7e81ec3",
   "metadata": {},
   "outputs": [
    {
     "data": {
      "text/plain": [
       "device(type='mps')"
      ]
     },
     "execution_count": 17,
     "metadata": {},
     "output_type": "execute_result"
    }
   ],
   "source": [
    "device\n",
    "\n",
    "# mps bc no GPU on macbook pro :("
   ]
  },
  {
   "cell_type": "code",
   "execution_count": 18,
   "id": "da7b4eab",
   "metadata": {},
   "outputs": [
    {
     "name": "stdout",
     "output_type": "stream",
     "text": [
      "Epoch: 001/003 | Batch 000/002 | Train/Val Loss: 0.96\n",
      "Epoch: 001/003 | Batch 001/002 | Train/Val Loss: 3.19\n",
      "Epoch: 002/003 | Batch 000/002 | Train/Val Loss: 0.32\n",
      "Epoch: 002/003 | Batch 001/002 | Train/Val Loss: 2.24\n",
      "Epoch: 003/003 | Batch 000/002 | Train/Val Loss: 0.57\n",
      "Epoch: 003/003 | Batch 001/002 | Train/Val Loss: 0.16\n"
     ]
    }
   ],
   "source": [
    "num_epochs = 3\n",
    "\n",
    "for epoch in range(num_epochs):\n",
    "    model.train()\n",
    "\n",
    "    for batch_idx, (features, labels) in enumerate(train_loader):\n",
    "        # transfers data onto GPU\n",
    "        features, labels = features.to(device), labels.to(device)\n",
    "        logits = model(features)\n",
    "        loss = F.cross_entropy(logits, labels)\n",
    "\n",
    "        optimizer.zero_grad()\n",
    "        loss.backward()\n",
    "        optimizer.step()\n",
    "\n",
    "        ### LOGGING\n",
    "        print(f\"Epoch: {epoch+1:03d}/{num_epochs:03d}\"\n",
    "              f\" | Batch {batch_idx:03d}/{len(train_loader):03d}\"\n",
    "              f\" | Train/Val Loss: {loss:.2f}\")\n",
    "        \n",
    "    model.eval()"
   ]
  },
  {
   "cell_type": "code",
   "execution_count": null,
   "id": "1a466ffa",
   "metadata": {},
   "outputs": [],
   "source": []
  }
 ],
 "metadata": {
  "kernelspec": {
   "display_name": "Python 3",
   "language": "python",
   "name": "python3"
  },
  "language_info": {
   "codemirror_mode": {
    "name": "ipython",
    "version": 3
   },
   "file_extension": ".py",
   "mimetype": "text/x-python",
   "name": "python",
   "nbconvert_exporter": "python",
   "pygments_lexer": "ipython3",
   "version": "3.12.4"
  }
 },
 "nbformat": 4,
 "nbformat_minor": 5
}
