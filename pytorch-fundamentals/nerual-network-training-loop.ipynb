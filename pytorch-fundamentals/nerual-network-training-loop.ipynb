{
 "cells": [
  {
   "cell_type": "code",
   "execution_count": 3,
   "id": "50f7f81a",
   "metadata": {},
   "outputs": [],
   "source": [
    "import torch.nn.functional as F\n",
    "import torch\n",
    "from torch.utils.data import Dataset, DataLoader"
   ]
  },
  {
   "cell_type": "markdown",
   "id": "932ba56c",
   "metadata": {},
   "source": [
    "### create model class"
   ]
  },
  {
   "cell_type": "code",
   "execution_count": 4,
   "id": "385ea852",
   "metadata": {},
   "outputs": [],
   "source": [
    "class NeuralNetwork(torch.nn.Module):\n",
    "    # parameterize num of inputs & outputs to reuse same code for diff datasets with diff num of features and classes\n",
    "    def __init__(self, num_inputs, num_outputs):\n",
    "        super().__init__()\n",
    "\n",
    "        self.layers = torch.nn.Sequential(\n",
    "\n",
    "            # first hidden layer\n",
    "            # Linear layer takes num of input and output nodes as args\n",
    "            torch.nn.Linear(num_inputs, 30),\n",
    "            # Nonlinear activation functions are placed bw hidden layers\n",
    "            torch.nn.ReLU(),\n",
    "\n",
    "            # second hidden layer\n",
    "            # The num of output nodes in prev hidden layer is equal to input of next hidden layer\n",
    "            torch.nn.Linear(30, 20),\n",
    "            torch.nn.ReLU(),\n",
    "\n",
    "            # output layer\n",
    "            torch.nn.Linear(20, num_outputs),\n",
    "        )\n",
    "    \n",
    "    def forward(self, x):\n",
    "        logits = self.layers(x)\n",
    "        # the output of the last layer are called logits\n",
    "        return logits"
   ]
  },
  {
   "cell_type": "markdown",
   "id": "7382c6e1",
   "metadata": {},
   "source": [
    "### create ToyDataset"
   ]
  },
  {
   "cell_type": "code",
   "execution_count": 5,
   "id": "5ea1f99d",
   "metadata": {},
   "outputs": [],
   "source": [
    "# create Toy dataset\n",
    "X_train = torch.tensor([\n",
    "    [-1.2, 3.1],\n",
    "    [-0.9, 2.9],\n",
    "    [-0.5, 2.6],\n",
    "    [2.3, -1.1],\n",
    "    [2.7, -1.5]\n",
    "])\n",
    "y_train = torch.tensor([0,0,0,1,1])\n",
    "\n",
    "X_test = torch.tensor([\n",
    "    [-0.8, 2.8],\n",
    "    [2.6, -1.6]\n",
    "])\n",
    "y_test = torch.tensor([0,1])"
   ]
  },
  {
   "cell_type": "code",
   "execution_count": 6,
   "id": "b69500e0",
   "metadata": {},
   "outputs": [],
   "source": [
    "# create custome dataset class\n",
    "class ToyDataset(Dataset):\n",
    "    def __init__(self, X, y):\n",
    "        # these vars could be file paths, file objects, database connectors, etc. we are using X,y bc created toydataset above sitting in mem\n",
    "        self.features = X\n",
    "        self.labels = y\n",
    "\n",
    "    def __getitem__(self, index):\n",
    "        # retrieve exactly one data record and corresponding label\n",
    "        one_x = self.features[index]\n",
    "        one_y = self.labels[index]\n",
    "        return one_x, one_y\n",
    "    \n",
    "    def __len__(self):\n",
    "        # return dataset row len\n",
    "        return self.labels.shape[0]"
   ]
  },
  {
   "cell_type": "code",
   "execution_count": 7,
   "id": "ef3bfa47",
   "metadata": {},
   "outputs": [],
   "source": [
    "train_ds = ToyDataset(X_train, y_train)\n",
    "test_ds = ToyDataset(X_test, y_test)"
   ]
  },
  {
   "cell_type": "markdown",
   "id": "a17045b6",
   "metadata": {},
   "source": [
    "### create DataLoader"
   ]
  },
  {
   "cell_type": "code",
   "execution_count": 8,
   "id": "c065e533",
   "metadata": {},
   "outputs": [
    {
     "data": {
      "text/plain": [
       "<torch._C.Generator at 0x12a678370>"
      ]
     },
     "execution_count": 8,
     "metadata": {},
     "output_type": "execute_result"
    }
   ],
   "source": [
    "torch.manual_seed(123)"
   ]
  },
  {
   "cell_type": "code",
   "execution_count": 27,
   "id": "e91270d3",
   "metadata": {},
   "outputs": [],
   "source": [
    "train_loader = DataLoader(\n",
    "    dataset=train_ds,\n",
    "    batch_size=2,\n",
    "    shuffle=True,\n",
    "    num_workers=0,\n",
    "    drop_last=True\n",
    ")\n",
    "\n",
    "test_loader = DataLoader(\n",
    "    dataset=test_ds,\n",
    "    batch_size=2,\n",
    "    shuffle=False,\n",
    "    num_workers=0,\n",
    "    drop_last=True\n",
    ")"
   ]
  },
  {
   "cell_type": "markdown",
   "id": "9c79f783",
   "metadata": {},
   "source": [
    "### train NN model"
   ]
  },
  {
   "cell_type": "code",
   "execution_count": 28,
   "id": "3ed9afa0",
   "metadata": {},
   "outputs": [],
   "source": [
    "model = NeuralNetwork(num_inputs=2, num_outputs=2)\n",
    "optimizer = torch.optim.SGD(\n",
    "    model.parameters(), lr=0.5\n",
    ")"
   ]
  },
  {
   "cell_type": "code",
   "execution_count": 29,
   "id": "82629468",
   "metadata": {},
   "outputs": [
    {
     "name": "stdout",
     "output_type": "stream",
     "text": [
      "Epoch: 001/003 | Batch 000/002 | Train Loss: 0.74\n",
      "Epoch: 001/003 | Batch 001/002 | Train Loss: 0.58\n",
      "Epoch: 002/003 | Batch 000/002 | Train Loss: 0.40\n",
      "Epoch: 002/003 | Batch 001/002 | Train Loss: 0.56\n",
      "Epoch: 003/003 | Batch 000/002 | Train Loss: 0.05\n",
      "Epoch: 003/003 | Batch 001/002 | Train Loss: 0.04\n"
     ]
    }
   ],
   "source": [
    "num_epochs = 3\n",
    "for epoch in range(num_epochs):\n",
    "    model.train()\n",
    "\n",
    "    for batch_idx, (features, labels) in enumerate(train_loader):\n",
    "        logits = model(features)\n",
    "        loss = F.cross_entropy(logits, labels)\n",
    "\n",
    "        optimizer.zero_grad()\n",
    "        loss.backward()\n",
    "        optimizer.step()\n",
    "\n",
    "        ### LOGGING\n",
    "        print(f\"Epoch: {epoch+1:03d}/{num_epochs:03d}\"\n",
    "            f\" | Batch {batch_idx:03d}/{len(train_loader):03d}\"\n",
    "            f\" | Train Loss: {loss:.2f}\")"
   ]
  },
  {
   "cell_type": "code",
   "execution_count": 32,
   "id": "3fca4ac3",
   "metadata": {},
   "outputs": [
    {
     "data": {
      "text/plain": [
       "NeuralNetwork(\n",
       "  (layers): Sequential(\n",
       "    (0): Linear(in_features=2, out_features=30, bias=True)\n",
       "    (1): ReLU()\n",
       "    (2): Linear(in_features=30, out_features=20, bias=True)\n",
       "    (3): ReLU()\n",
       "    (4): Linear(in_features=20, out_features=2, bias=True)\n",
       "  )\n",
       ")"
      ]
     },
     "execution_count": 32,
     "metadata": {},
     "output_type": "execute_result"
    }
   ],
   "source": [
    "model.eval()"
   ]
  },
  {
   "cell_type": "code",
   "execution_count": 31,
   "id": "c4e4f962",
   "metadata": {},
   "outputs": [
    {
     "name": "stdout",
     "output_type": "stream",
     "text": [
      "Total number of model parameters =  752\n"
     ]
    }
   ],
   "source": [
    "num_params = sum(p.numel() for p in model.parameters() if p.requires_grad)\n",
    "print(\"Total number of model parameters = \", num_params)"
   ]
  },
  {
   "cell_type": "markdown",
   "id": "81a2a2eb",
   "metadata": {},
   "source": [
    "### predictions"
   ]
  },
  {
   "cell_type": "code",
   "execution_count": null,
   "id": "a793445b",
   "metadata": {},
   "outputs": [
    {
     "name": "stdout",
     "output_type": "stream",
     "text": [
      "tensor([[ 1.9280, -2.0601],\n",
      "        [ 1.7927, -1.9219],\n",
      "        [ 1.5995, -1.7219],\n",
      "        [-2.5382,  2.0873],\n",
      "        [-3.0131,  2.4429]])\n"
     ]
    }
   ],
   "source": [
    "# logits output\n",
    "with torch.no_grad():\n",
    "    outputs = model(X_train)\n",
    "print(outputs)"
   ]
  },
  {
   "cell_type": "code",
   "execution_count": null,
   "id": "ecc3849b",
   "metadata": {},
   "outputs": [
    {
     "name": "stdout",
     "output_type": "stream",
     "text": [
      "tensor([[0.9818, 0.0182],\n",
      "        [0.9762, 0.0238],\n",
      "        [0.9652, 0.0348],\n",
      "        [0.0097, 0.9903],\n",
      "        [0.0043, 0.9957]])\n"
     ]
    }
   ],
   "source": [
    "# class membership probabilites\n",
    "torch.set_printoptions(sci_mode=False)\n",
    "probas = torch.softmax(outputs, dim=1)\n",
    "print(probas)\n",
    "\n",
    "# first pred has 0.9818, or 98.18%, probability of belong to class 0 and 0.0182, or 1.82%, probability of belong to class 1."
   ]
  },
  {
   "cell_type": "code",
   "execution_count": 36,
   "id": "e064783d",
   "metadata": {},
   "outputs": [
    {
     "name": "stdout",
     "output_type": "stream",
     "text": [
      "tensor([0, 0, 0, 1, 1])\n"
     ]
    }
   ],
   "source": [
    "# class prediction labels from class membership probabilities using argmax\n",
    "probas_predictions = torch.argmax(probas, dim=1)\n",
    "print(probas_predictions)"
   ]
  },
  {
   "cell_type": "code",
   "execution_count": 37,
   "id": "d324efdb",
   "metadata": {},
   "outputs": [
    {
     "name": "stdout",
     "output_type": "stream",
     "text": [
      "tensor([0, 0, 0, 1, 1])\n"
     ]
    }
   ],
   "source": [
    "# class prediction labels from logits using argmax\n",
    "logit_predicitions = torch.argmax(outputs, dim=1)\n",
    "print(logit_predicitions)"
   ]
  },
  {
   "cell_type": "code",
   "execution_count": 39,
   "id": "e9a74195",
   "metadata": {},
   "outputs": [
    {
     "data": {
      "text/plain": [
       "tensor([True, True, True, True, True])"
      ]
     },
     "execution_count": 39,
     "metadata": {},
     "output_type": "execute_result"
    }
   ],
   "source": [
    "# compare preds to test dataset\n",
    "logit_predicitions == y_train"
   ]
  },
  {
   "cell_type": "code",
   "execution_count": null,
   "id": "0df47a41",
   "metadata": {},
   "outputs": [
    {
     "name": "stdout",
     "output_type": "stream",
     "text": [
      "tensor(5)\n"
     ]
    }
   ],
   "source": [
    "# correct predictions count\n",
    "torch.sum(logit_predicitions == y_train)"
   ]
  },
  {
   "cell_type": "code",
   "execution_count": 45,
   "id": "4dc83e57",
   "metadata": {},
   "outputs": [],
   "source": [
    "# prediction accuracy function\n",
    "def compute_accuracy(model, dataloader):\n",
    "    \"\"\"Function to compute prediction accuracy of pytorch model\n",
    "\n",
    "    Args:\n",
    "        model (_type_): Neural Network pytorch class\n",
    "        dataloader (_type_): Dataloader pytorch class\n",
    "    \"\"\"\n",
    "\n",
    "    model = model.eval()\n",
    "    correct = 0.0\n",
    "    total_examples = 0\n",
    "\n",
    "    for idx, (features, labels) in enumerate(dataloader):\n",
    "        with torch.no_grad():\n",
    "            logits = model(features)\n",
    "\n",
    "        predictions = torch.argmax(logits, dim=1)\n",
    "        compare = labels == predictions\n",
    "        correct += torch.sum(compare)\n",
    "        total_examples += len(compare)\n",
    "\n",
    "    return (correct / total_examples).item()"
   ]
  },
  {
   "cell_type": "code",
   "execution_count": 44,
   "id": "56497ffd",
   "metadata": {},
   "outputs": [
    {
     "data": {
      "text/plain": [
       "1.0"
      ]
     },
     "execution_count": 44,
     "metadata": {},
     "output_type": "execute_result"
    }
   ],
   "source": [
    "compute_accuracy(model, train_loader)"
   ]
  },
  {
   "cell_type": "code",
   "execution_count": 46,
   "id": "18bc2614",
   "metadata": {},
   "outputs": [
    {
     "data": {
      "text/plain": [
       "1.0"
      ]
     },
     "execution_count": 46,
     "metadata": {},
     "output_type": "execute_result"
    }
   ],
   "source": [
    "compute_accuracy(model, test_loader)"
   ]
  },
  {
   "cell_type": "markdown",
   "id": "8164eaa4",
   "metadata": {},
   "source": [
    "### save & load model"
   ]
  },
  {
   "cell_type": "code",
   "execution_count": null,
   "id": "3fdc5d8a",
   "metadata": {},
   "outputs": [],
   "source": [
    "# save model\n",
    "torch.save(model.state_dict(), \"model.pth\")"
   ]
  },
  {
   "cell_type": "code",
   "execution_count": 48,
   "id": "aa0027f5",
   "metadata": {},
   "outputs": [
    {
     "data": {
      "text/plain": [
       "<All keys matched successfully>"
      ]
     },
     "execution_count": 48,
     "metadata": {},
     "output_type": "execute_result"
    }
   ],
   "source": [
    "# load model\n",
    "model = NeuralNetwork(2, 2)\n",
    "model.load_state_dict(torch.load(\"model.pth\"))"
   ]
  },
  {
   "cell_type": "code",
   "execution_count": null,
   "id": "7942a6a8",
   "metadata": {},
   "outputs": [],
   "source": []
  }
 ],
 "metadata": {
  "kernelspec": {
   "display_name": "Python 3",
   "language": "python",
   "name": "python3"
  },
  "language_info": {
   "codemirror_mode": {
    "name": "ipython",
    "version": 3
   },
   "file_extension": ".py",
   "mimetype": "text/x-python",
   "name": "python",
   "nbconvert_exporter": "python",
   "pygments_lexer": "ipython3",
   "version": "3.12.4"
  }
 },
 "nbformat": 4,
 "nbformat_minor": 5
}
