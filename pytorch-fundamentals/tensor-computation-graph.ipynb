{
 "cells": [
  {
   "cell_type": "code",
   "execution_count": 3,
   "id": "cfc84321",
   "metadata": {},
   "outputs": [],
   "source": [
    "import torch.nn.functional as F\n",
    "import torch"
   ]
  },
  {
   "cell_type": "code",
   "execution_count": 4,
   "id": "40df691a",
   "metadata": {},
   "outputs": [],
   "source": [
    "# true label\n",
    "y = torch.tensor([1.0])"
   ]
  },
  {
   "cell_type": "code",
   "execution_count": null,
   "id": "85fcf6e3",
   "metadata": {},
   "outputs": [],
   "source": []
  }
 ],
 "metadata": {
  "kernelspec": {
   "display_name": "Python 3",
   "language": "python",
   "name": "python3"
  },
  "language_info": {
   "codemirror_mode": {
    "name": "ipython",
    "version": 3
   },
   "file_extension": ".py",
   "mimetype": "text/x-python",
   "name": "python",
   "nbconvert_exporter": "python",
   "pygments_lexer": "ipython3",
   "version": "3.12.4"
  }
 },
 "nbformat": 4,
 "nbformat_minor": 5
}
