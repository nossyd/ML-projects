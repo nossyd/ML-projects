{
 "cells": [
  {
   "cell_type": "code",
   "execution_count": 3,
   "id": "cfc84321",
   "metadata": {},
   "outputs": [],
   "source": [
    "import torch.nn.functional as F\n",
    "import torch"
   ]
  },
  {
   "cell_type": "code",
   "execution_count": 5,
   "id": "40df691a",
   "metadata": {},
   "outputs": [],
   "source": [
    "# true label\n",
    "y = torch.tensor([1.0])"
   ]
  },
  {
   "cell_type": "code",
   "execution_count": 6,
   "id": "85fcf6e3",
   "metadata": {},
   "outputs": [],
   "source": [
    "# input feature\n",
    "x1 = torch.tensor([1.1])"
   ]
  },
  {
   "cell_type": "code",
   "execution_count": null,
   "id": "86b36550",
   "metadata": {},
   "outputs": [],
   "source": [
    "# weight parameter (trainable)\n",
    "w1 = torch.tensor([2.2])"
   ]
  },
  {
   "cell_type": "code",
   "execution_count": null,
   "id": "030ae539",
   "metadata": {},
   "outputs": [],
   "source": [
    "# bias unit parameter (trainable)\n",
    "b = torch.tensor([0.0])"
   ]
  },
  {
   "cell_type": "code",
   "execution_count": null,
   "id": "23338f9a",
   "metadata": {},
   "outputs": [],
   "source": [
    "# net input\n",
    "# u = w1 * w1\n",
    "z = x1 * w1 + b"
   ]
  },
  {
   "cell_type": "code",
   "execution_count": 10,
   "id": "431538da",
   "metadata": {},
   "outputs": [],
   "source": [
    "# activation & output\n",
    "a = torch.sigmoid(z)"
   ]
  },
  {
   "cell_type": "code",
   "execution_count": null,
   "id": "5961eb00",
   "metadata": {},
   "outputs": [
    {
     "name": "stdout",
     "output_type": "stream",
     "text": [
      "tensor(0.0852)\n"
     ]
    }
   ],
   "source": [
    "# loss function\n",
    "loss = F.binary_cross_entropy(a,y)\n",
    "print(loss)"
   ]
  },
  {
   "cell_type": "code",
   "execution_count": null,
   "id": "ef4980da",
   "metadata": {},
   "outputs": [],
   "source": []
  }
 ],
 "metadata": {
  "kernelspec": {
   "display_name": "Python 3",
   "language": "python",
   "name": "python3"
  },
  "language_info": {
   "codemirror_mode": {
    "name": "ipython",
    "version": 3
   },
   "file_extension": ".py",
   "mimetype": "text/x-python",
   "name": "python",
   "nbconvert_exporter": "python",
   "pygments_lexer": "ipython3",
   "version": "3.12.4"
  }
 },
 "nbformat": 4,
 "nbformat_minor": 5
}
